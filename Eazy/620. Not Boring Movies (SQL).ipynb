{
 "cells": [
  {
   "cell_type": "markdown",
   "id": "1398b171",
   "metadata": {},
   "source": [
    "# 620. Not Boring Movies (SQL)"
   ]
  },
  {
   "cell_type": "code",
   "execution_count": null,
   "id": "6fbd6c76",
   "metadata": {
    "vscode": {
     "languageId": "plaintext"
    }
   },
   "outputs": [],
   "source": [
    "Table: Cinema\n",
    "+----------------+----------+\n",
    "| Column Name    | Type     |\n",
    "+----------------+----------+\n",
    "| id             | int      |\n",
    "| movie          | varchar  |\n",
    "| description    | varchar  |\n",
    "| rating         | float    |\n",
    "+----------------+----------+\n",
    "id is the primary key (column with unique values) for this table.\n",
    "Each row contains information about the name of a movie, its genre, and its rating.\n",
    "rating is a 2 decimal places float in the range [0, 10]\n",
    " \n",
    "\n",
    "Write a solution to report the movies with an odd-numbered ID and a description that is not \"boring\".\n",
    "\n",
    "Return the result table ordered by rating in descending order.\n",
    "\n",
    "The result format is in the following example.\n",
    "\n",
    "編寫一個解決方案，舉報 ID 為奇數且描述不「無聊」的電影。\n",
    "\n",
    "傳回依評分降序排列的結果表。\n",
    "\n",
    "結果格式如下例所示。\n",
    "\n",
    "Example 1:\n",
    "\n",
    "Input: \n",
    "Cinema table:\n",
    "+----+------------+-------------+--------+\n",
    "| id | movie      | description | rating |\n",
    "+----+------------+-------------+--------+\n",
    "| 1  | War        | great 3D    | 8.9    |\n",
    "| 2  | Science    | fiction     | 8.5    |\n",
    "| 3  | irish      | boring      | 6.2    |\n",
    "| 4  | Ice song   | Fantacy     | 8.6    |\n",
    "| 5  | House card | Interesting | 9.1    |\n",
    "+----+------------+-------------+--------+\n",
    "\n",
    "Output: \n",
    "+----+------------+-------------+--------+\n",
    "| id | movie      | description | rating |\n",
    "+----+------------+-------------+--------+\n",
    "| 5  | House card | Interesting | 9.1    |\n",
    "| 1  | War        | great 3D    | 8.9    |\n",
    "+----+------------+-------------+--------+\n",
    "Explanation: \n",
    "We have three movies with odd-numbered IDs: 1, 3, and 5. The movie with ID = 3 is boring so we do not include it in the answer.\n"
   ]
  },
  {
   "cell_type": "code",
   "execution_count": null,
   "id": "1c9dcf8b",
   "metadata": {
    "vscode": {
     "languageId": "sql"
    }
   },
   "outputs": [],
   "source": [
    "SELECT id, movie, description, rating\n",
    "FROM Cinema\n",
    "WHERE id % 2 = 1 AND description != 'boring'\n",
    "ORDER BY rating DESC"
   ]
  }
 ],
 "metadata": {
  "language_info": {
   "name": "python"
  }
 },
 "nbformat": 4,
 "nbformat_minor": 5
}
