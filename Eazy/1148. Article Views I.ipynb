{
 "cells": [
  {
   "cell_type": "markdown",
   "id": "087bbeab",
   "metadata": {},
   "source": [
    "# 1148. Article Views I\n",
    "\n",
    "此表沒有主鍵（具有唯一值的列），因此可能包含重複的行。\n",
    "\n",
    "此表的每一行都表示某個瀏覽者在某個日期瀏覽了某篇文章（由某個作者撰寫）。\n",
    "\n",
    "請注意，相同的 author_id 和 viewer_id 表示同一個人。\n",
    "\n",
    "---\n",
    "\n",
    "There is no primary key (column with unique values) for this table, the table may have duplicate rows.\n",
    "\n",
    "Each row of this table indicates that some viewer viewed an article (written by some author) on some date. \n",
    "\n",
    "Note that equal author_id and viewer_id indicate the same person\n",
    "\n",
    "\n",
    "Write a solution to find all the authors that viewed at least one of their own articles.\n",
    "\n",
    "Return the result table sorted by id in ascending order.\n",
    "\n",
    "The result format is in the following example."
   ]
  },
  {
   "cell_type": "raw",
   "id": "0358870f",
   "metadata": {
    "vscode": {
     "languageId": "raw"
    }
   },
   "source": [
    "Example 1:\n",
    "\n",
    "Input: \n",
    "Views table:\n",
    "---------------------------------------------------\n",
    "| article_id | author_id | viewer_id | view_date  |\n",
    "---------------------------------------------------\n",
    "| 1          | 3         | 5         | 2019-08-01 |\n",
    "| 1          | 3         | 6         | 2019-08-02 |\n",
    "| 2          | 7         | 7         | 2019-08-01 |\n",
    "| 2          | 7         | 6         | 2019-08-02 |\n",
    "| 4          | 7         | 1         | 2019-07-22 |\n",
    "| 3          | 4         | 4         | 2019-07-21 |\n",
    "| 3          | 4         | 4         | 2019-07-21 |\n",
    "---------------------------------------------------\n",
    "Output: \n",
    "--------\n",
    "| id   |\n",
    "--------\n",
    "| 4    |\n",
    "| 7    |\n",
    "--------"
   ]
  },
  {
   "cell_type": "code",
   "execution_count": null,
   "id": "054b352c",
   "metadata": {
    "vscode": {
     "languageId": "sql"
    }
   },
   "outputs": [],
   "source": [
    "-- 從 Views 資料表中查詢作者自己看過自己文章的作者 ID\n",
    "SELECT DISTINCT author_id AS id  -- DISTINCT：避免同一作者重複出現\n",
    "FROM Views\n",
    "WHERE author_id = viewer_id      -- 條件：作者 ID 與觀看者 ID 相同，表示作者自己觀看自己的文章\n",
    "ORDER BY id;                     -- 依 ID 由小到大排序"
   ]
  }
 ],
 "metadata": {
  "kernelspec": {
   "display_name": "base",
   "language": "python",
   "name": "python3"
  },
  "language_info": {
   "name": "python",
   "version": "3.11.5"
  }
 },
 "nbformat": 4,
 "nbformat_minor": 5
}
