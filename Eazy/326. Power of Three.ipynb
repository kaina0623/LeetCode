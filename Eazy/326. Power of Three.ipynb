{
 "cells": [
  {
   "cell_type": "markdown",
   "id": "acfa553a",
   "metadata": {},
   "source": [
    "# 326. Power of Three\n",
    "\n",
    "給定一個整數 n，如果它是 3 的冪，則傳回 true。否則，返回 false。\n",
    "\n",
    "如果存在一個整數 x，且 n == 3^x，則整數 n 是 3 的冪。\n",
    "\n",
    "--- \n",
    "\n",
    "Given an integer n, return true if it is a power of three. Otherwise, return false.\n",
    "\n",
    "An integer n is a power of three, if there exists an integer x such that n == 3^x.\n",
    "\n",
    "Example 1:\n",
    "- Input: n = 27\n",
    "- Output: true\n",
    "- Explanation: 27 = 3^3\n",
    "\n",
    "Example 2:\n",
    "- Input: n = 0\n",
    "- Output: false\n",
    "- Explanation: There is no x where 3x = 0.\n",
    "\n",
    "Example 3:\n",
    "- Input: n = -1\n",
    "- Output: false\n",
    "- Explanation: There is no x where 3x = (-1)."
   ]
  },
  {
   "cell_type": "code",
   "execution_count": 49,
   "id": "2baf9d5a",
   "metadata": {},
   "outputs": [],
   "source": [
    "class Solution1:\n",
    "    def isPowerOfThree(self, n: int) -> bool:\n",
    "        if n <= 0:\n",
    "            return False\n",
    "        \n",
    "        while n % 3 == 0:\n",
    "            n //= 3\n",
    "\n",
    "        return n == 1"
   ]
  },
  {
   "cell_type": "code",
   "execution_count": 50,
   "id": "d1aed703",
   "metadata": {},
   "outputs": [],
   "source": [
    "class Solution2:\n",
    "    def isPowerOfThree(self, n: int) -> bool:\n",
    "\n",
    "        # 3^19 = 1162261467。\n",
    "        # 最多只能接受到3^19，3^20太大了。\n",
    "        # 只要是三的次方都會是 3^19 的因數。\n",
    "\n",
    "        return n > 0 and 1162261467 % n == 0"
   ]
  },
  {
   "cell_type": "code",
   "execution_count": 51,
   "id": "6e4944fb",
   "metadata": {},
   "outputs": [],
   "source": [
    "class Solution3:\n",
    "    def isPowerOfThree(self, n: int) -> bool:\n",
    "\n",
    "        # log換底公式 log_a^b = log_c^b / log_c^a\n",
    "        # 如我n是3的倍數，則log_3^n一定是整數\n",
    "        # 利用換底公式 log_3^n = log_10^n / log_10^3\n",
    "        # 問題變成 判斷 log_10^n / log_10^3 是否為整數\n",
    "\n",
    "        import math\n",
    "        if n > 0:\n",
    "            num = math.log10(n) / math.log10(3)\n",
    "\n",
    "            return num.is_integer()\n",
    "        \n",
    "        else:\n",
    "            return False"
   ]
  },
  {
   "cell_type": "code",
   "execution_count": 52,
   "id": "d4ccec36",
   "metadata": {},
   "outputs": [
    {
     "name": "stdout",
     "output_type": "stream",
     "text": [
      "True\n",
      "True\n",
      "True\n"
     ]
    }
   ],
   "source": [
    "sol = Solution1()\n",
    "\n",
    "print(sol.isPowerOfThree(27))\n",
    "\n",
    "sol = Solution2()\n",
    "\n",
    "print(sol.isPowerOfThree(27))\n",
    "\n",
    "sol = Solution3()\n",
    "\n",
    "print(sol.isPowerOfThree(27))"
   ]
  },
  {
   "cell_type": "code",
   "execution_count": null,
   "id": "5d69ebee",
   "metadata": {},
   "outputs": [],
   "source": []
  }
 ],
 "metadata": {
  "kernelspec": {
   "display_name": "base",
   "language": "python",
   "name": "python3"
  },
  "language_info": {
   "codemirror_mode": {
    "name": "ipython",
    "version": 3
   },
   "file_extension": ".py",
   "mimetype": "text/x-python",
   "name": "python",
   "nbconvert_exporter": "python",
   "pygments_lexer": "ipython3",
   "version": "3.11.5"
  }
 },
 "nbformat": 4,
 "nbformat_minor": 5
}
