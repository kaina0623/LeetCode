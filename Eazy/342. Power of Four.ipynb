{
 "cells": [
  {
   "cell_type": "markdown",
   "id": "be06ce96",
   "metadata": {},
   "source": [
    "# 342. Power of Four\n",
    "\n",
    "Given an integer n, return true if it is a power of four. Otherwise, return false.\n",
    "\n",
    "An integer n is a power of four, if there exists an integer x such that n == 4^x.\n",
    "\n",
    "Example 1:\n",
    "- Input: n = 16\n",
    "- Output: true\n",
    "\n",
    "Example 2:\n",
    "- Input: n = 5\n",
    "- Output: false\n",
    "\n",
    "Example 3:\n",
    "- Input: n = 1\n",
    "- Output: true"
   ]
  },
  {
   "cell_type": "code",
   "execution_count": 28,
   "id": "c0777d39",
   "metadata": {},
   "outputs": [
    {
     "name": "stdout",
     "output_type": "stream",
     "text": [
      "2147483647\n",
      "1073741824\n",
      "0\n",
      "3\n",
      "15\n",
      "63\n",
      "255\n"
     ]
    }
   ],
   "source": [
    "print(2**31-1)\n",
    "print(4**15)\n",
    "\n",
    "# 題目主要要分別如何區分4的次方還是2的次方 \n",
    "# 四的次方都可以被三取餘=0\n",
    "\n",
    "print((4**0)-1)\n",
    "print((4**1)-1)\n",
    "print((4**2)-1)\n",
    "print((4**3)-1)\n",
    "print((4**4)-1)"
   ]
  },
  {
   "cell_type": "code",
   "execution_count": 29,
   "id": "2082cc05",
   "metadata": {},
   "outputs": [
    {
     "data": {
      "text/plain": [
       "True"
      ]
     },
     "execution_count": 29,
     "metadata": {},
     "output_type": "execute_result"
    }
   ],
   "source": [
    "1073741824 % 8 == 0"
   ]
  },
  {
   "cell_type": "code",
   "execution_count": 30,
   "id": "89ba3566",
   "metadata": {},
   "outputs": [],
   "source": [
    "# 基本解法1\n",
    "\n",
    "class Solution1:\n",
    "    def isPowerOfFour(self, n: int) -> bool:\n",
    "        if n <= 0:\n",
    "            return False\n",
    "        \n",
    "        while n % 4 == 0:\n",
    "            n //= 4\n",
    "\n",
    "        return n == 1"
   ]
  },
  {
   "cell_type": "code",
   "execution_count": 31,
   "id": "d7e4d222",
   "metadata": {},
   "outputs": [],
   "source": [
    "# 解法2\n",
    "# 三個條件：\n",
    "# 1. n > 0\n",
    "\n",
    "# 2. (n & (n-1)) == 0 (判斷是不是2的次方，因為2的次方數字在二禁制只有一個bit是1，-1後會使原本0變成1、1變成0)\n",
    "# n   = 8  -> 100\n",
    "# n-1 = 7  -> 0111\n",
    "# 1000 & 0111 = 0000\n",
    "\n",
    "# 3. (n-1) % 3 == 0\n",
    "\n",
    "class Solution2:\n",
    "    def isPowerOfFour(self, n: int) -> bool:\n",
    "        \n",
    "        return n > 0 and (n & (n-1)) == 0 and (n-1) % 3 == 0"
   ]
  },
  {
   "cell_type": "code",
   "execution_count": 32,
   "id": "5a2b4fa7",
   "metadata": {},
   "outputs": [],
   "source": [
    "# 解法3\n",
    "# 0x55555555 是 16 進位表示法，二進位是：01010101010101010101010101010101 （32 位元交錯的 0 與 1）\n",
    "# 這個數字的 1 只出現在偶數位（0-based index：bit0, bit2, bit4...）。\n",
    "# 4 的次方的二進位特徵：唯一的 1 一定出現在偶數位，例如： (4^1) -> 0100  (bit2)  (4^2) -> 0001 0000 (bit4)\n",
    "# 檢查 唯一的 1 是否在偶數位置。\n",
    "\n",
    "\n",
    "class Solution3:\n",
    "    def isPowerOfFour(self, n: int) -> bool:\n",
    "        \n",
    "        return n > 0 and (n & (n-1)) == 0 and (n & 0x55555555) == n"
   ]
  },
  {
   "cell_type": "code",
   "execution_count": 33,
   "id": "418d0135",
   "metadata": {},
   "outputs": [],
   "source": [
    "# 解法4\n",
    "# log 換底公式 查看power of three\n",
    "\n",
    "class Solution4:\n",
    "    def isPowerOfFour(self, n: int) -> bool:\n",
    "        from math import log10\n",
    "\n",
    "        if n > 0:\n",
    "            num = log10(n) / log10(4)\n",
    "\n",
    "            return num.is_integer()\n",
    "        else:\n",
    "            return False"
   ]
  },
  {
   "cell_type": "code",
   "execution_count": 34,
   "id": "ca8f5e4b",
   "metadata": {},
   "outputs": [
    {
     "name": "stdout",
     "output_type": "stream",
     "text": [
      "False\n",
      "False\n",
      "False\n",
      "False\n"
     ]
    }
   ],
   "source": [
    "sol = Solution1()\n",
    "print(sol.isPowerOfFour(8))\n",
    "\n",
    "sol = Solution2()\n",
    "print(sol.isPowerOfFour(8))\n",
    "\n",
    "sol = Solution3()\n",
    "print(sol.isPowerOfFour(8))\n",
    "\n",
    "sol = Solution4()\n",
    "print(sol.isPowerOfFour(8))"
   ]
  }
 ],
 "metadata": {
  "kernelspec": {
   "display_name": "base",
   "language": "python",
   "name": "python3"
  },
  "language_info": {
   "codemirror_mode": {
    "name": "ipython",
    "version": 3
   },
   "file_extension": ".py",
   "mimetype": "text/x-python",
   "name": "python",
   "nbconvert_exporter": "python",
   "pygments_lexer": "ipython3",
   "version": "3.11.5"
  }
 },
 "nbformat": 4,
 "nbformat_minor": 5
}
