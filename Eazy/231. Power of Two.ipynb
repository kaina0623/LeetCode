{
 "cells": [
  {
   "cell_type": "markdown",
   "id": "44cfe4e2",
   "metadata": {},
   "source": [
    "# 231. Power of Two\n",
    "\n",
    "Given an integer n, return true if it is a power of two. Otherwise, return false.\n",
    "An integer n is a power of two, if there exists an integer x such that n == 2x.\n",
    "\n",
    " \n",
    "\n",
    "Example 1:\n",
    "- Input: n = 1\n",
    "- Output: true\n",
    "- Explanation: 20 = 1\n",
    "\n",
    "Example 2:\n",
    "- Input: n = 16\n",
    "- Output: true\n",
    "- Explanation: 24 = 16\n",
    "\n",
    "Example 3:\n",
    "- Input: n = 3\n",
    "- Output: false"
   ]
  },
  {
   "cell_type": "code",
   "execution_count": 3,
   "id": "3a9c53f3",
   "metadata": {},
   "outputs": [],
   "source": [
    "class Solution:\n",
    "    def isPowerOfTwo(self, n: int) -> bool:\n",
    "        \n",
    "        return n > 0 and (n & (n-1)) == 0"
   ]
  },
  {
   "cell_type": "code",
   "execution_count": 4,
   "id": "479d87e7",
   "metadata": {},
   "outputs": [
    {
     "name": "stdout",
     "output_type": "stream",
     "text": [
      "False\n"
     ]
    }
   ],
   "source": [
    "sol = Solution()\n",
    "print(sol.isPowerOfTwo(5))"
   ]
  }
 ],
 "metadata": {
  "kernelspec": {
   "display_name": "base",
   "language": "python",
   "name": "python3"
  },
  "language_info": {
   "codemirror_mode": {
    "name": "ipython",
    "version": 3
   },
   "file_extension": ".py",
   "mimetype": "text/x-python",
   "name": "python",
   "nbconvert_exporter": "python",
   "pygments_lexer": "ipython3",
   "version": "3.11.5"
  }
 },
 "nbformat": 4,
 "nbformat_minor": 5
}
