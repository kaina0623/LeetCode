{
 "cells": [
  {
   "cell_type": "markdown",
   "id": "3d9d4545",
   "metadata": {},
   "source": [
    "# 1. Two Sum\n",
    "\n",
    "給定一個整數數組 nums 和一個整數 target，傳回這兩個數字的索引，使得它們總和等於 target。\n",
    "\n",
    "你可以假設每個輸入只有一個解，而且不能重複使用同一個元素。\n",
    "\n",
    "你可以按任意順序返回答案。\n",
    "\n",
    "---\n",
    "\n",
    "Given an array of integers nums and an integer target, return indices of the two numbers such that they add up to target.\n",
    "\n",
    "You may assume that each input would have exactly one solution, and you may not use the same element twice.\n",
    "\n",
    "You can return the answer in any order.\n",
    "\n",
    "Example 1:\n",
    "- Input: nums = [2,7,11,15], target = 9\n",
    "- Output: [0,1]\n",
    "- Explanation: Because nums[0] + nums[1] == 9, we return [0, 1].\n",
    "\n",
    "Example 2:\n",
    "- Input: nums = [3,2,4], target = 6\n",
    "- Output: [1,2]\n",
    "\n",
    "Example 3:\n",
    "- Input: nums = [3,3], target = 6\n",
    "- Output: [0,1]"
   ]
  },
  {
   "cell_type": "code",
   "execution_count": 14,
   "id": "b7af0bd7",
   "metadata": {},
   "outputs": [],
   "source": [
    "class Solution(object):\n",
    "    def twoSum(self, nums, target):\n",
    "        for i in range(len(nums)):\n",
    "            for j in range(i+1, len(nums)):\n",
    "                if nums[i] + nums[j] == target:\n",
    "                    return [i, j]"
   ]
  },
  {
   "cell_type": "code",
   "execution_count": 15,
   "id": "d297d816",
   "metadata": {},
   "outputs": [],
   "source": [
    "class Solution1(object):\n",
    "    def twoSum(self, nums, target):\n",
    "        d = {}\n",
    "        for i in range(len(nums)):\n",
    "            num1 = nums[i]\n",
    "            num2 = target - num1\n",
    "            if num2 in d:\n",
    "                return [d[num2], i]\n",
    "            d[num1] = i"
   ]
  },
  {
   "cell_type": "code",
   "execution_count": 16,
   "id": "cad10592",
   "metadata": {},
   "outputs": [],
   "source": [
    "class Solution2(object):\n",
    "    def twoSum(self, nums, target):\n",
    "        i = 0\n",
    "        j = len(nums) - 1\n",
    "        \n",
    "        while (nums[i] + nums[j] != target):\n",
    "            if (nums[i] + nums[j] > target):\n",
    "                j = j - 1\n",
    "            else:\n",
    "                i = i + 1\n",
    "                \n",
    "        return [i, j]"
   ]
  },
  {
   "cell_type": "code",
   "execution_count": 17,
   "id": "1191c3e2",
   "metadata": {},
   "outputs": [
    {
     "name": "stdout",
     "output_type": "stream",
     "text": [
      "[0, 1]\n"
     ]
    }
   ],
   "source": [
    "sol = Solution()\n",
    "\n",
    "print(sol.twoSum(nums=[2,7,11,15], target=9))"
   ]
  },
  {
   "cell_type": "code",
   "execution_count": 18,
   "id": "8f32e6ee",
   "metadata": {},
   "outputs": [
    {
     "name": "stdout",
     "output_type": "stream",
     "text": [
      "[0, 1]\n"
     ]
    }
   ],
   "source": [
    "sol = Solution1()\n",
    "\n",
    "print(sol.twoSum(nums=[2,7,11,15], target=9))"
   ]
  },
  {
   "cell_type": "code",
   "execution_count": 19,
   "id": "a3d4b649",
   "metadata": {},
   "outputs": [
    {
     "name": "stdout",
     "output_type": "stream",
     "text": [
      "[0, 1]\n"
     ]
    }
   ],
   "source": [
    "sol = Solution2()\n",
    "\n",
    "print(sol.twoSum(nums=[2,7,11,15], target=9))"
   ]
  }
 ],
 "metadata": {
  "kernelspec": {
   "display_name": "base",
   "language": "python",
   "name": "python3"
  },
  "language_info": {
   "codemirror_mode": {
    "name": "ipython",
    "version": 3
   },
   "file_extension": ".py",
   "mimetype": "text/x-python",
   "name": "python",
   "nbconvert_exporter": "python",
   "pygments_lexer": "ipython3",
   "version": "3.11.5"
  }
 },
 "nbformat": 4,
 "nbformat_minor": 5
}
