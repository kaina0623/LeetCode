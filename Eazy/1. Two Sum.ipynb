{
 "cells": [
  {
   "cell_type": "markdown",
   "id": "3d9d4545",
   "metadata": {},
   "source": [
    "# 1. Two Sum\n",
    "\n",
    "\u7d66\u5b9a\u4e00\u500b\u6574\u6578\u6578\u7d44 nums \u548c\u4e00\u500b\u6574\u6578 target\uff0c\u50b3\u56de\u9019\u5169\u500b\u6578\u5b57\u7684\u7d22\u5f15\uff0c\u4f7f\u5f97\u5b83\u5011\u7e3d\u548c\u7b49\u65bc target\u3002\n",
    "\n",
    "\u4f60\u53ef\u4ee5\u5047\u8a2d\u6bcf\u500b\u8f38\u5165\u53ea\u6709\u4e00\u500b\u89e3\uff0c\u800c\u4e14\u4e0d\u80fd\u91cd\u8907\u4f7f\u7528\u540c\u4e00\u500b\u5143\u7d20\u3002\n",
    "\n",
    "\u4f60\u53ef\u4ee5\u6309\u4efb\u610f\u9806\u5e8f\u8fd4\u56de\u7b54\u6848\u3002\n",
    "\n",
    "---\n",
    "\n",
    "Given an array of integers nums and an integer target, return indices of the two numbers such that they add up to target.\n",
    "\n",
    "You may assume that each input would have exactly one solution, and you may not use the same element twice.\n",
    "\n",
    "You can return the answer in any order.\n",
    "\n",
    "Example 1:\n",
    "- Input: nums = [2,7,11,15], target = 9\n",
    "- Output: [0,1]\n",
    "- Explanation: Because nums[0] + nums[1] == 9, we return [0, 1].\n",
    "\n",
    "Example 2:\n",
    "- Input: nums = [3,2,4], target = 6\n",
    "- Output: [1,2]\n",
    "\n",
    "Example 3:\n",
    "- Input: nums = [3,3], target = 6\n",
    "- Output: [0,1]"
   ]
  },
  {
   "cell_type": "code",
   "execution_count": 14,
   "id": "b7af0bd7",
   "metadata": {},
   "outputs": [],
   "source": [
    "class Solution(object):\n",
    "    def twoSum(self, nums, target):\n",
    "        for i in range(len(nums)):\n",
    "            for j in range(i+1, len(nums)):\n",
    "                if nums[i] + nums[j] == target:\n",
    "                    return [i, j]"
   ]
  },
  {
   "cell_type": "code",
   "execution_count": 15,
   "id": "d297d816",
   "metadata": {},
   "outputs": [],
   "source": [
    "class Solution1(object):\n",
    "    def twoSum(self, nums, target):\n",
    "        d = {}\n",
    "        for i in range(len(nums)):\n",
    "            num1 = nums[i]\n",
    "            num2 = target - num1\n",
    "            if num2 in d:\n",
    "                return [d[num2], i]\n",
    "            d[num1] = i"
   ]
  },
  {
   "cell_type": "code",
   "execution_count": 16,
   "id": "cad10592",
   "metadata": {},
   "outputs": [],
   "source": [
    "class Solution2(object):\n",
    "    def twoSum(self, nums, target):\n",
    "        nums_with_indices = sorted((num, idx) for idx, num in enumerate(nums))\n",
    "        i, j = 0, len(nums_with_indices) - 1\n",
    "        while i < j:\n",
    "            s = nums_with_indices[i][0] + nums_with_indices[j][0]\n",
    "            if s == target:\n",
    "                return [nums_with_indices[i][1], nums_with_indices[j][1]]\n",
    "            elif s > target:\n",
    "                j -= 1\n",
    "            else:\n",
    "                i += 1\n"
   ]
  },
  {
   "cell_type": "code",
   "execution_count": 17,
   "id": "1191c3e2",
   "metadata": {},
   "outputs": [
    {
     "name": "stdout",
     "output_type": "stream",
     "text": [
      "[0, 1]\n"
     ]
    }
   ],
   "source": [
    "sol = Solution()\n",
    "\n",
    "print(sol.twoSum(nums=[2,7,11,15], target=9))"
   ]
  },
  {
   "cell_type": "code",
   "execution_count": 18,
   "id": "8f32e6ee",
   "metadata": {},
   "outputs": [
    {
     "name": "stdout",
     "output_type": "stream",
     "text": [
      "[0, 1]\n"
     ]
    }
   ],
   "source": [
    "sol = Solution1()\n",
    "\n",
    "print(sol.twoSum(nums=[2,7,11,15], target=9))"
   ]
  },
  {
   "cell_type": "code",
   "execution_count": 19,
   "id": "a3d4b649",
   "metadata": {},
   "outputs": [
    {
     "name": "stdout",
     "output_type": "stream",
     "text": [
      "[0, 1]\n"
     ]
    }
   ],
   "source": [
    "sol = Solution2()\n",
    "\n",
    "print(sol.twoSum(nums=[3,2,4], target=6))"
   ]
  }
 ],
 "metadata": {
  "kernelspec": {
   "display_name": "base",
   "language": "python",
   "name": "python3"
  },
  "language_info": {
   "codemirror_mode": {
    "name": "ipython",
    "version": 3
   },
   "file_extension": ".py",
   "mimetype": "text/x-python",
   "name": "python",
   "nbconvert_exporter": "python",
   "pygments_lexer": "ipython3",
   "version": "3.11.5"
  }
 },
 "nbformat": 4,
 "nbformat_minor": 5
}