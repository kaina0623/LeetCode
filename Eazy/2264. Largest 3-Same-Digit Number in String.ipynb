{
 "cells": [
  {
   "cell_type": "markdown",
   "id": "dcb9d86d",
   "metadata": {},
   "source": [
    "# 2264. Largest 3-Same-Digit Number in String\n",
    "\n",
    "給定一個表示大整數的字串 num。如果滿足以下條件，則該整數為好整數：\n",
    "* 它是長度為 3 的 num 的子字串。\n",
    "* 它只包含一個唯一數字。\n",
    "傳回最大的好整數作為字串；如果不存在這樣的整數，則傳回空字串 \"\"。\n",
    "\n",
    "注意：\n",
    "* 子字串是字串中連續的字元序列。\n",
    "* num 或好整數中可以包含前導零。\n",
    "\n",
    "---\n",
    "\n",
    "You are given a string num representing a large integer. An integer is good if it meets the following conditions:\n",
    "* It is a substring of num with length 3.\n",
    "* It consists of only one unique digit.\n",
    "Return the maximum good integer as a string or an empty string \"\" if no such integer exists.\n",
    "\n",
    "Note:\n",
    "* A substring is a contiguous sequence of characters within a string.\n",
    "* There may be leading zeroes in num or a good integer.\n",
    "\n",
    "\n",
    "Example 1:\n",
    "- Input: num = \"6777133339\"\n",
    "- Output: \"777\"\n",
    "- Explanation: There are two distinct good integers: \"777\" and \"333\".\n",
    "- \"777\" is the largest, so we return \"777\".\n",
    "\n",
    "Example 2:\n",
    "- Input: num = \"2300019\"\n",
    "- Output: \"000\"\n",
    "- Explanation: \"000\" is the only good integer.\n",
    "\n",
    "Example 3:\n",
    "- Input: num = \"42352338\"\n",
    "- Output: \"\"\n",
    "- Explanation: No substring of length 3 consists of only one unique digit. Therefore, there are no good integers."
   ]
  },
  {
   "cell_type": "markdown",
   "id": "945a7ec8",
   "metadata": {},
   "source": [
    "### Approach 1: 檢查三位數所有可能"
   ]
  },
  {
   "cell_type": "code",
   "execution_count": 4,
   "id": "88e741dc",
   "metadata": {},
   "outputs": [],
   "source": [
    "class Solution:\n",
    "    def largestGoodInteger(self, num: str) -> str:\n",
    "        same_digit_numbers = [\"999\", \"888\", \"777\", \"666\", \"555\", \"444\", \"333\", \"222\", \"111\", \"000\"]\n",
    "\n",
    "        for good_integer in same_digit_numbers:\n",
    "            if good_integer in num:\n",
    "                return good_integer\n",
    "\n",
    "        return \"\""
   ]
  },
  {
   "cell_type": "markdown",
   "id": "1dac318d",
   "metadata": {},
   "source": [
    "### Approach 2: Single Iteration"
   ]
  },
  {
   "cell_type": "code",
   "execution_count": 5,
   "id": "93a89083",
   "metadata": {},
   "outputs": [],
   "source": [
    "class Solution1:\n",
    "    def largestGoodInteger(self, num: str) -> str:\n",
    "        max_digit = ''\n",
    "\n",
    "        for i in range(len(num) - 2):\n",
    "            if num[i] == num[i+1] == num[i+2]:\n",
    "                max_digit = max(max_digit,num[i])\n",
    "        \n",
    "        return max_digit * 3"
   ]
  },
  {
   "cell_type": "code",
   "execution_count": 6,
   "id": "6d87a22b",
   "metadata": {},
   "outputs": [
    {
     "name": "stdout",
     "output_type": "stream",
     "text": [
      "777\n",
      "777\n"
     ]
    }
   ],
   "source": [
    "sol = Solution()\n",
    "\n",
    "print(sol.largestGoodInteger(\"6777133339\"))\n",
    "\n",
    "sol = Solution1()\n",
    "\n",
    "print(sol.largestGoodInteger(\"6777133339\"))"
   ]
  }
 ],
 "metadata": {
  "kernelspec": {
   "display_name": "base",
   "language": "python",
   "name": "python3"
  },
  "language_info": {
   "codemirror_mode": {
    "name": "ipython",
    "version": 3
   },
   "file_extension": ".py",
   "mimetype": "text/x-python",
   "name": "python",
   "nbconvert_exporter": "python",
   "pygments_lexer": "ipython3",
   "version": "3.11.5"
  }
 },
 "nbformat": 4,
 "nbformat_minor": 5
}
