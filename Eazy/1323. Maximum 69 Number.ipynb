{
 "cells": [
  {
   "cell_type": "markdown",
   "id": "e0f4284e",
   "metadata": {},
   "source": [
    "# 1323. Maximum 69 Number\n",
    "\n",
    "You are given a positive integer num consisting only of digits 6 and 9.\n",
    "Return the maximum number you can get by changing at most one digit (6 becomes 9, and 9 becomes 6).\n",
    "\n",
    "給定一個僅由數字 6 和 9 組成的正整數 num。\n",
    "傳回最多更改一位數字（6 變成 9，9 變成 6）所能得到的最大數字。\n",
    " \n",
    "\n",
    "Example 1:\n",
    "Input: num = 9669\n",
    "Output: 9969\n",
    "Explanation: \n",
    "- Changing the first digit results in 6669.\n",
    "- Changing the second digit results in 9969.\n",
    "- Changing the third digit results in 9699.\n",
    "- Changing the fourth digit results in 9666.\n",
    "- The maximum number is 9969.\n",
    "\n",
    "Example 2:\n",
    "Input: num = 9996\n",
    "Output: 9999\n",
    "- Explanation: Changing the last digit 6 to 9 results in the maximum number.\n",
    "\n",
    "Example 3:\n",
    "Input: num = 999\n",
    "Output: 9999\n",
    "- Explanation: It is better not to apply any change.\n",
    "\n",
    "Constraints:\n",
    "* 1 <= num <= 104\n",
    "* num consists of only 6 and 9 digits."
   ]
  },
  {
   "cell_type": "code",
   "execution_count": 15,
   "id": "2cf12f9b",
   "metadata": {},
   "outputs": [],
   "source": [
    "class Solution:\n",
    "    def maximum69Number (self, num: int) -> int:\n",
    "        # 把數字轉成 list 方便修改\n",
    "        digits = list(str(num))\n",
    "\n",
    "        for i in range(len(digits)):\n",
    "            if digits[i] == '6':\n",
    "                digits[i] = '9'\n",
    "                break   # 只改第一個 '6'，就得到最大數\n",
    "            \n",
    "        return int(\"\".join(digits))"
   ]
  },
  {
   "cell_type": "code",
   "execution_count": 16,
   "id": "8500d878",
   "metadata": {},
   "outputs": [],
   "source": [
    "class Solution1:\n",
    "    def maximum69Number (self, num: int) -> int:\n",
    "\n",
    "        s = str(num)\n",
    "\n",
    "        s = s.replace('6', '9', 1)\n",
    "\n",
    "        return int(s)"
   ]
  },
  {
   "cell_type": "code",
   "execution_count": 17,
   "id": "f27b0697",
   "metadata": {},
   "outputs": [],
   "source": [
    "class Solution2:\n",
    "    def maximum69Number (self, num: int) -> int:\n",
    "\n",
    "        return int(str(num).replace('6', '9', 1))"
   ]
  },
  {
   "cell_type": "code",
   "execution_count": 18,
   "id": "40de36ff",
   "metadata": {},
   "outputs": [
    {
     "name": "stdout",
     "output_type": "stream",
     "text": [
      "9969\n",
      "9969\n",
      "9969\n"
     ]
    }
   ],
   "source": [
    "sol = Solution()\n",
    "print(sol.maximum69Number(9669))\n",
    "\n",
    "sol = Solution1()\n",
    "print(sol.maximum69Number(9669))\n",
    "\n",
    "sol = Solution2()\n",
    "print(sol.maximum69Number(9669))"
   ]
  }
 ],
 "metadata": {
  "kernelspec": {
   "display_name": "base",
   "language": "python",
   "name": "python3"
  },
  "language_info": {
   "codemirror_mode": {
    "name": "ipython",
    "version": 3
   },
   "file_extension": ".py",
   "mimetype": "text/x-python",
   "name": "python",
   "nbconvert_exporter": "python",
   "pygments_lexer": "ipython3",
   "version": "3.11.5"
  }
 },
 "nbformat": 4,
 "nbformat_minor": 5
}
