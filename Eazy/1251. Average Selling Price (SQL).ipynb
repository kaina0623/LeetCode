{
 "cells": [
  {
   "cell_type": "markdown",
   "id": "623b8735",
   "metadata": {},
   "source": [
    "# 1251. Average Selling Price (SQL)"
   ]
  },
  {
   "cell_type": "code",
   "execution_count": null,
   "id": "372aaedb",
   "metadata": {
    "vscode": {
     "languageId": "plaintext"
    }
   },
   "outputs": [],
   "source": [
    "Table: Prices\n",
    "+---------------+---------+\n",
    "| Column Name   | Type    |\n",
    "+---------------+---------+\n",
    "| product_id    | int     |\n",
    "| start_date    | date    |\n",
    "| end_date      | date    |\n",
    "| price         | int     |\n",
    "+---------------+---------+\n",
    "(product_id, start_date, end_date) is the primary key (combination of columns with unique values) for this table.\n",
    "Each row of this table indicates the price of the product_id in the period from start_date to end_date.\n",
    "For each product_id there will be no two overlapping periods. That means there will be no two intersecting periods for the same product_id.\n",
    "\n",
    "(product_id, start_date, end_date) 是此表的主鍵（具有唯一值的列的組合）。\n",
    "此表的每一行均表示 product_id 在 start_date 到 end_date 期間的價格。\n",
    "對於每個 product_id，不會有兩個重疊的時間段。這意味著同一個 product_id 不會有兩個相交的時間段。\n",
    "\n",
    "\n",
    "Table: UnitsSold\n",
    "+---------------+---------+\n",
    "| Column Name   | Type    |\n",
    "+---------------+---------+\n",
    "| product_id    | int     |\n",
    "| purchase_date | date    |\n",
    "| units         | int     |\n",
    "+---------------+---------+\n",
    "This table may contain duplicate rows.\n",
    "Each row of this table indicates the date, units, and product_id of each product sold. \n",
    "\n",
    "此表可能包含重複行。\n",
    "此表的每一行分別表示每件售出商品的日期、數量和 product_id。\n",
    "\n",
    "Write a solution to find the average selling price for each product. \n",
    "average_price should be rounded to 2 decimal places. If a product does not have any sold units, its average selling price is assumed to be 0.\n",
    "Return the result table in any order.\n",
    "The result format is in the following example.\n",
    "\n",
    "請編寫一個解決方案來計算每件商品的平均售價。\n",
    "average_price 應四捨五入至小數點後兩位。若某件商品沒有任何售出數量，則其平均售價假設為 0。\n",
    "以任意順序傳回結果表。\n",
    "結果格式如下例所示。\n",
    " \n",
    "\n",
    "Example 1:\n",
    "\n",
    "Input: \n",
    "Prices table:\n",
    "+------------+------------+------------+--------+\n",
    "| product_id | start_date | end_date   | price  |\n",
    "+------------+------------+------------+--------+\n",
    "| 1          | 2019-02-17 | 2019-02-28 | 5      |\n",
    "| 1          | 2019-03-01 | 2019-03-22 | 20     |\n",
    "| 2          | 2019-02-01 | 2019-02-20 | 15     |\n",
    "| 2          | 2019-02-21 | 2019-03-31 | 30     |\n",
    "+------------+------------+------------+--------+\n",
    "UnitsSold table:\n",
    "+------------+---------------+-------+\n",
    "| product_id | purchase_date | units |\n",
    "+------------+---------------+-------+\n",
    "| 1          | 2019-02-25    | 100   |\n",
    "| 1          | 2019-03-01    | 15    |\n",
    "| 2          | 2019-02-10    | 200   |\n",
    "| 2          | 2019-03-22    | 30    |\n",
    "+------------+---------------+-------+\n",
    "Output: \n",
    "+------------+---------------+\n",
    "| product_id | average_price |\n",
    "+------------+---------------+\n",
    "| 1          | 6.96          |\n",
    "| 2          | 16.96         |\n",
    "+------------+---------------+\n",
    "Explanation: \n",
    "Average selling price = Total Price of Product / Number of products sold.\n",
    "Average selling price for product 1 = ((100 * 5) + (15 * 20)) / 115 = 6.96\n",
    "Average selling price for product 2 = ((200 * 15) + (30 * 30)) / 230 = 16.96"
   ]
  },
  {
   "cell_type": "code",
   "execution_count": null,
   "id": "504fe50c",
   "metadata": {
    "vscode": {
     "languageId": "sql"
    }
   },
   "outputs": [],
   "source": [
    "SELECT Prices.product_id, \n",
    "    IFNULL(\n",
    "        ROUND(\n",
    "            SUM(Prices.price * UnitsSold.units) / SUM(UnitsSold.units), 2), 0) AS average_price\n",
    "FROM Prices LEFT JOIN UnitsSold\n",
    "ON Prices.product_id = UnitsSold.product_id AND UnitsSold.purchase_date BETWEEN Prices.start_date AND Prices.end_date\n",
    "GROUP BY 1;"
   ]
  }
 ],
 "metadata": {
  "language_info": {
   "name": "python"
  }
 },
 "nbformat": 4,
 "nbformat_minor": 5
}
