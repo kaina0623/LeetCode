{
 "cells": [
  {
   "cell_type": "markdown",
   "id": "4c74c0c0",
   "metadata": {},
   "source": [
    "# 1304. Find N Unique Integers Sum up to Zero\n",
    "\n",
    "Example 1:\n",
    "Input: n = 5\n",
    "- Output: [-7,-1,1,3,4]\n",
    "- Explanation: These arrays also are accepted [-5,-1,1,2,3] , [-3,-1,2,-2,4].\n",
    "\n",
    "Example 2:\n",
    "- Input: n = 3\n",
    "- Output: [-1,0,1]\n",
    "\n",
    "Example 3:\n",
    "- Input: n = 1\n",
    "- Output: [0]\n",
    " \n",
    "Constraints:\n",
    "* 1 <= n <= 1000"
   ]
  },
  {
   "cell_type": "code",
   "execution_count": 1,
   "id": "644491bf",
   "metadata": {},
   "outputs": [],
   "source": [
    "from typing import List\n",
    "\n",
    "class Solution:\n",
    "    def sumZero(self, n: int) -> List[int]:\n",
    "        return list(range(1 - n, n, 2))"
   ]
  },
  {
   "cell_type": "code",
   "execution_count": 2,
   "id": "60214ce9",
   "metadata": {},
   "outputs": [
    {
     "name": "stdout",
     "output_type": "stream",
     "text": [
      "[-4, -2, 0, 2, 4]\n"
     ]
    }
   ],
   "source": [
    "sol = Solution()\n",
    "\n",
    "print(sol.sumZero(5))"
   ]
  }
 ],
 "metadata": {
  "kernelspec": {
   "display_name": "base",
   "language": "python",
   "name": "python3"
  },
  "language_info": {
   "codemirror_mode": {
    "name": "ipython",
    "version": 3
   },
   "file_extension": ".py",
   "mimetype": "text/x-python",
   "name": "python",
   "nbconvert_exporter": "python",
   "pygments_lexer": "ipython3",
   "version": "3.11.5"
  }
 },
 "nbformat": 4,
 "nbformat_minor": 5
}
