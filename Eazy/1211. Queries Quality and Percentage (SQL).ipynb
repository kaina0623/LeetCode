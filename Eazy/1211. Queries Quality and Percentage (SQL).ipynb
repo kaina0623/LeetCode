{
 "cells": [
  {
   "cell_type": "markdown",
   "id": "d7d7196a",
   "metadata": {},
   "source": [
    "# 1211. Queries Quality and Percentage (SQL)"
   ]
  },
  {
   "cell_type": "code",
   "execution_count": null,
   "id": "e15513b1",
   "metadata": {
    "vscode": {
     "languageId": "plaintext"
    }
   },
   "outputs": [],
   "source": [
    "Table: Queries\n",
    "\n",
    "+-------------+---------+\n",
    "| Column Name | Type    |\n",
    "+-------------+---------+\n",
    "| query_name  | varchar |\n",
    "| result      | varchar |\n",
    "| position    | int     |\n",
    "| rating      | int     |\n",
    "+-------------+---------+\n",
    "This table may have duplicate rows.\n",
    "This table contains information collected from some queries on a database.\n",
    "The position column has a value from 1 to 500.\n",
    "The rating column has a value from 1 to 5. Query with rating less than 3 is a poor query.\n",
    "\n",
    "此表可能包含重複行。\n",
    "此表包含從資料庫的一些查詢中收集的資訊。\n",
    "位置列的值從 1 到 500。\n",
    "評級列的值從 1 到 5。評級低於 3 的查詢是較差的查詢。\n",
    "\n",
    "We define query quality as:\n",
    "The average of the ratio between query rating and its position.\n",
    "We also define poor query percentage as:\n",
    "The percentage of all queries with rating less than 3.\n",
    "Write a solution to find each query_name, the quality and poor_query_percentage.\n",
    "Both quality and poor_query_percentage should be rounded to 2 decimal places.\n",
    "Return the result table in any order.\n",
    "The result format is in the following example.\n",
    "\n",
    "\n",
    "我們將查詢品質定義為：\n",
    "\n",
    "查詢評分與其排名之比的平均值。\n",
    "我們也將差查詢百分比定義為：\n",
    "評分低於 3 的所有查詢的百分比。\n",
    "寫一個解決方案，找出每個查詢的名稱 (query_name)、品質 (quality) 和差查詢百分比 (poor_query_percentage)。\n",
    "品質 (quality) 和差查詢百分比 (poor_query_percentage) 均應四捨五入至小數點後 2 位。\n",
    "以任意順序傳回結果表。\n",
    "結果格式如下例所示。\n",
    "\n",
    "Example 1:\n",
    "Input: \n",
    "Queries table:\n",
    "+------------+-------------------+----------+--------+\n",
    "| query_name | result            | position | rating |\n",
    "+------------+-------------------+----------+--------+\n",
    "| Dog        | Golden Retriever  | 1        | 5      |\n",
    "| Dog        | German Shepherd   | 2        | 5      |\n",
    "| Dog        | Mule              | 200      | 1      |\n",
    "| Cat        | Shirazi           | 5        | 2      |\n",
    "| Cat        | Siamese           | 3        | 3      |\n",
    "| Cat        | Sphynx            | 7        | 4      |\n",
    "+------------+-------------------+----------+--------+\n",
    "Output: \n",
    "+------------+---------+-----------------------+\n",
    "| query_name | quality | poor_query_percentage |\n",
    "+------------+---------+-----------------------+\n",
    "| Dog        | 2.50    | 33.33                 |\n",
    "| Cat        | 0.66    | 33.33                 |\n",
    "+------------+---------+-----------------------+\n",
    "\n",
    "Explanation: \n",
    "- Dog queries quality is ((5 / 1) + (5 / 2) + (1 / 200)) / 3 = 2.50\n",
    "- Dog queries poor_ query_percentage is (1 / 3) * 100 = 33.33\n",
    "- Cat queries quality equals ((2 / 5) + (3 / 3) + (4 / 7)) / 3 = 0.66\n",
    "- Cat queries poor_ query_percentage is (1 / 3) * 100 = 33.33"
   ]
  },
  {
   "cell_type": "code",
   "execution_count": null,
   "id": "bf4ebc2d",
   "metadata": {
    "vscode": {
     "languageId": "sql"
    }
   },
   "outputs": [],
   "source": [
    "SELECT query_name, \n",
    "    ROUND(AVG(rating / position), 2) AS quality, \n",
    "    ROUND(AVG(rating < 3) * 100 ,2) AS poor_query_percentage\n",
    "FROM Queries\n",
    "GROUP BY 1;"
   ]
  }
 ],
 "metadata": {
  "language_info": {
   "name": "python"
  }
 },
 "nbformat": 4,
 "nbformat_minor": 5
}
