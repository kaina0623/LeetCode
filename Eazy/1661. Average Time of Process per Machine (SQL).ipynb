{
 "cells": [
  {
   "cell_type": "markdown",
   "id": "0dce0690",
   "metadata": {},
   "source": [
    "# 1661. Average Time of Process per Machine (SQL)"
   ]
  },
  {
   "cell_type": "code",
   "execution_count": null,
   "id": "4fed52bd",
   "metadata": {
    "vscode": {
     "languageId": "plaintext"
    }
   },
   "outputs": [],
   "source": [
    "Table: Activity\n",
    "+----------------+---------+\n",
    "| Column Name    | Type    |\n",
    "+----------------+---------+\n",
    "| machine_id     | int     |\n",
    "| process_id     | int     |\n",
    "| activity_type  | enum    |\n",
    "| timestamp      | float   |\n",
    "+----------------+---------+\n",
    "\n",
    "The table shows the user activities for a factory website.\n",
    "(machine_id, process_id, activity_type) is the primary key (combination of columns with unique values) of this table.\n",
    "machine_id is the ID of a machine.\n",
    "process_id is the ID of a process running on the machine with ID machine_id.\n",
    "activity_type is an ENUM (category) of type ('start', 'end').\n",
    "timestamp is a float representing the current time in seconds.\n",
    "'start' means the machine starts the process at the given timestamp and 'end' means the machine ends the process at the given timestamp.\n",
    "The 'start' timestamp will always be before the 'end' timestamp for every (machine_id, process_id) pair.\n",
    "It is guaranteed that each (machine_id, process_id) pair has a 'start' and 'end' timestamp.\n",
    " \n",
    "\n",
    "There is a factory website that has several machines each running the same number of processes. \n",
    "Write a solution to find the average time each machine takes to complete a process.\n",
    "The time to complete a process is the 'end' timestamp minus the 'start' timestamp. \n",
    "The average time is calculated by the total time to complete every process on the machine divided by the number of processes that were run.\n",
    "The resulting table should have the machine_id along with the average time as processing_time, which should be rounded to 3 decimal places.\n",
    "Return the result table in any order.\n",
    "The result format is in the following example.\n",
    "\n",
    "表中顯示了工廠網站的使用者活動。\n",
    "(machine_id, process_id, activity_type) 是該表的主鍵（具有唯一值的列的組合）。\n",
    "machine_id 是機器的 ID。\n",
    "process_id 是在 ID 為 machine_id 的機器上執行的程序的 ID。\n",
    "activity_type 是一個枚舉（類別），類型為 ('start', 'end')。\n",
    "timestamp 是一個浮點數，表示目前時間（以秒為單位）。\n",
    "'start' 表示機器在給定的時間戳啟動進程，'end' 表示機器在給定的時間戳記結束進程。\n",
    "對於每個 (machine_id, process_id) 對，'start' 時間戳始終早於 'end' 時間戳記。\n",
    "保證每個 (machine_id, process_id) 對都有一個 'start' 和 'end' 時間戳記。\n",
    "\n",
    "一個工廠網站有多台機器，每台機器運行相同數量的進程。\n",
    "寫一個解決方案，計算每台機器完成一個流程所需的平均時間。\n",
    "完成一個進程所需的時間等於「結束」時間戳減去「開始」時間戳記。\n",
    "平均時間的計算方法是將機器上每個進程完成所需的總時間除以已運行的進程數。\n",
    "產生的表應包含 machine_id 以及平均時間 processing_time，該值應四捨五入到小數點後 3 位。\n",
    "以任意順序傳回結果表。\n",
    "結果格式如下例所示。\n",
    "\n",
    " \n",
    "\n",
    "Example 1:\n",
    "\n",
    "Input: \n",
    "Activity table:\n",
    "+------------+------------+---------------+-----------+\n",
    "| machine_id | process_id | activity_type | timestamp |\n",
    "+------------+------------+---------------+-----------+\n",
    "| 0          | 0          | start         | 0.712     |\n",
    "| 0          | 0          | end           | 1.520     |\n",
    "| 0          | 1          | start         | 3.140     |\n",
    "| 0          | 1          | end           | 4.120     |\n",
    "| 1          | 0          | start         | 0.550     |\n",
    "| 1          | 0          | end           | 1.550     |\n",
    "| 1          | 1          | start         | 0.430     |\n",
    "| 1          | 1          | end           | 1.420     |\n",
    "| 2          | 0          | start         | 4.100     |\n",
    "| 2          | 0          | end           | 4.512     |\n",
    "| 2          | 1          | start         | 2.500     |\n",
    "| 2          | 1          | end           | 5.000     |\n",
    "+------------+------------+---------------+-----------+\n",
    "Output: \n",
    "+------------+-----------------+\n",
    "| machine_id | processing_time |\n",
    "+------------+-----------------+\n",
    "| 0          | 0.894           |\n",
    "| 1          | 0.995           |\n",
    "| 2          | 1.456           |\n",
    "+------------+-----------------+\n",
    "Explanation: \n",
    "There are 3 machines running 2 processes each.\n",
    "Machine 0's average time is ((1.520 - 0.712) + (4.120 - 3.140)) / 2 = 0.894\n",
    "Machine 1's average time is ((1.550 - 0.550) + (1.420 - 0.430)) / 2 = 0.995\n",
    "Machine 2's average time is ((4.512 - 4.100) + (5.000 - 2.500)) / 2 = 1.456"
   ]
  },
  {
   "cell_type": "code",
   "execution_count": null,
   "id": "eb460139",
   "metadata": {
    "vscode": {
     "languageId": "sql"
    }
   },
   "outputs": [],
   "source": [
    "SELECT A.machine_id, ROUND(AVG(B.timestamp - A.timestamp), 3) AS processing_time\n",
    "FROM Activity A JOIN Activity B\n",
    "ON A.machine_id = B.machine_id AND A.process_id = B.process_id\n",
    "WHERE A.activity_type = 'start' AND B.activity_type = 'end'\n",
    "GROUP BY A.machine_id;"
   ]
  }
 ],
 "metadata": {
  "language_info": {
   "name": "python"
  }
 },
 "nbformat": 4,
 "nbformat_minor": 5
}
