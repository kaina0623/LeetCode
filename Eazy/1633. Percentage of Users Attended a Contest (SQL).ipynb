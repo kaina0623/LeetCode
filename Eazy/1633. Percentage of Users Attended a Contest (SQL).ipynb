{
 "cells": [
  {
   "cell_type": "markdown",
   "id": "9d8f231e",
   "metadata": {},
   "source": [
    "# 1633. Percentage of Users Attended a Contest (SQL)"
   ]
  },
  {
   "cell_type": "code",
   "execution_count": null,
   "id": "c9a40e2a",
   "metadata": {
    "vscode": {
     "languageId": "plaintext"
    }
   },
   "outputs": [],
   "source": [
    "Table: Users\n",
    "+-------------+---------+\n",
    "| Column Name | Type    |\n",
    "+-------------+---------+\n",
    "| user_id     | int     |\n",
    "| user_name   | varchar |\n",
    "+-------------+---------+\n",
    "user_id is the primary key (column with unique values) for this table.\n",
    "Each row of this table contains the name and the id of a user.\n",
    "\n",
    "user_id 是此表的主鍵（具有唯一值的欄位）。\n",
    "此表的每一行都包含使用者的名稱和 ID。\n",
    "\n",
    "Table: Register\n",
    "+-------------+---------+\n",
    "| Column Name | Type    |\n",
    "+-------------+---------+\n",
    "| contest_id  | int     |\n",
    "| user_id     | int     |\n",
    "+-------------+---------+\n",
    "(contest_id, user_id) is the primary key (combination of columns with unique values) for this table.\n",
    "Each row of this table contains the id of a user and the contest they registered into.\n",
    " \n",
    "Write a solution to find the percentage of the users registered in each contest rounded to two decimals.\n",
    "Return the result table ordered by percentage in descending order. In case of a tie, order it by contest_id in ascending order.\n",
    "The result format is in the following example.\n",
    "\n",
    "(contest_id, user_id) 是此表的主鍵（具有唯一值的列的組合）。\n",
    "此表的每一行包含用戶的 ID 及其註冊的比賽。\n",
    "\n",
    "編寫一個解決方案，計算每個比賽的註冊用戶百分比，四捨五入到小數點後兩位。\n",
    "傳回按百分比降序排列的結果表。如果出現相同結果，則按 contest_id 升序排列。\n",
    "結果格式如下例所示。\n",
    "\n",
    "Example 1:\n",
    "\n",
    "Input: \n",
    "Users table:\n",
    "+---------+-----------+\n",
    "| user_id | user_name |\n",
    "+---------+-----------+\n",
    "| 6       | Alice     |\n",
    "| 2       | Bob       |\n",
    "| 7       | Alex      |\n",
    "+---------+-----------+\n",
    "Register table:\n",
    "+------------+---------+\n",
    "| contest_id | user_id |\n",
    "+------------+---------+\n",
    "| 215        | 6       |\n",
    "| 209        | 2       |\n",
    "| 208        | 2       |\n",
    "| 210        | 6       |\n",
    "| 208        | 6       |\n",
    "| 209        | 7       |\n",
    "| 209        | 6       |\n",
    "| 215        | 7       |\n",
    "| 208        | 7       |\n",
    "| 210        | 2       |\n",
    "| 207        | 2       |\n",
    "| 210        | 7       |\n",
    "+------------+---------+\n",
    "Output: \n",
    "+------------+------------+\n",
    "| contest_id | percentage |\n",
    "+------------+------------+\n",
    "| 208        | 100.0      |\n",
    "| 209        | 100.0      |\n",
    "| 210        | 100.0      |\n",
    "| 215        | 66.67      |\n",
    "| 207        | 33.33      |\n",
    "+------------+------------+\n",
    "\n",
    "Explanation: \n",
    "All the users registered in contests 208, 209, and 210. \n",
    "The percentage is 100% and we sort them in the answer table by contest_id in ascending order.\n",
    "Alice and Alex registered in contest 215 and the percentage is ((2/3) * 100) = 66.67%\n",
    "Bob registered in contest 207 and the percentage is ((1/3) * 100) = 33.33%"
   ]
  },
  {
   "cell_type": "markdown",
   "id": "91cb796c",
   "metadata": {},
   "source": [
    "* DISTINCT 挑選不重複"
   ]
  },
  {
   "cell_type": "code",
   "execution_count": null,
   "id": "e124f518",
   "metadata": {
    "vscode": {
     "languageId": "sql"
    }
   },
   "outputs": [],
   "source": [
    "SELECT contest_id, ROUND(\n",
    "    COUNT(DISTINCT user_id) * 100 / (\n",
    "        SELECT COUNT(user_name) FROM Users\n",
    "    ), 2\n",
    ") AS percentage\n",
    "FROM Register \n",
    "GROUP BY contest_id\n",
    "ORDER BY percentage DESC, contest_id;"
   ]
  },
  {
   "cell_type": "code",
   "execution_count": null,
   "id": "48136875",
   "metadata": {
    "vscode": {
     "languageId": "sql"
    }
   },
   "outputs": [],
   "source": [
    "SELECT contest_id, ROUND(\n",
    "    COUNT(DISTINCT user_id) * 100 / (\n",
    "        SELECT COUNT(*) FROM Users --要使用COUNT(*) 這樣才不會忽略NULL\n",
    "    ), 2\n",
    ") AS percentage\n",
    "FROM Register \n",
    "GROUP BY contest_id\n",
    "ORDER BY percentage DESC, contest_id;"
   ]
  }
 ],
 "metadata": {
  "language_info": {
   "name": "python"
  }
 },
 "nbformat": 4,
 "nbformat_minor": 5
}
