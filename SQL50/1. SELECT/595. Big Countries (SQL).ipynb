{
 "cells": [
  {
   "cell_type": "markdown",
   "id": "aeb5260e",
   "metadata": {},
   "source": [
    "# 595. Big Countries (SQL)\n",
    "\n",
    "name 是此表的主鍵（具有唯一值的欄位）。\n",
    "\n",
    "此表的每一行都包含以下資訊：一個國家的名稱、\n",
    "\n",
    "它所屬的洲、面積、人口和 GDP 值。\n",
    "\n",
    "如果一個國家符合以下條件，則該國家為大國：\n",
    "* 它的面積至少為 300 萬平方公里（即 300 萬平方公里）；或\n",
    "* 它的人口至少為 2500 萬（即 2500 萬平方公里）。\n",
    "\n",
    "寫一個解決方案，找出這些大國的名稱、人口和麵積。\n",
    "\n",
    "以任意順序傳回結果表。\n",
    "\n",
    "結果格式如下例所示。\n",
    "\n",
    "---\n",
    "\n",
    "name is the primary key (column with unique values) for this table.\n",
    "\n",
    "Each row of this table gives information about the name of a country, \n",
    "\n",
    "the continent to which it belongs, its area, the population, and its GDP value.\n",
    " \n",
    "A country is big if:\n",
    "* it has an area of at least three million (i.e., 3000000 km2), or\n",
    "* it has a population of at least twenty-five million (i.e., 25000000).\n",
    "\n",
    "Write a solution to find the name, population, and area of the big countries.\n",
    "\n",
    "Return the result table in any order.\n",
    "\n",
    "The result format is in the following example."
   ]
  },
  {
   "cell_type": "code",
   "execution_count": null,
   "id": "c7353018",
   "metadata": {
    "vscode": {
     "languageId": "plaintext"
    }
   },
   "outputs": [],
   "source": [
    "Example 1:\n",
    "\n",
    "Input: \n",
    "World table:\n",
    "+-------------+-----------+---------+------------+--------------+\n",
    "| name        | continent | area    | population | gdp          |\n",
    "+-------------+-----------+---------+------------+--------------+\n",
    "| Afghanistan | Asia      | 652230  | 25500100   | 20343000000  |\n",
    "| Albania     | Europe    | 28748   | 2831741    | 12960000000  |\n",
    "| Algeria     | Africa    | 2381741 | 37100000   | 188681000000 |\n",
    "| Andorra     | Europe    | 468     | 78115      | 3712000000   |\n",
    "| Angola      | Africa    | 1246700 | 20609294   | 100990000000 |\n",
    "+-------------+-----------+---------+------------+--------------+\n",
    "Output: \n",
    "+-------------+------------+---------+\n",
    "| name        | population | area    |\n",
    "+-------------+------------+---------+\n",
    "| Afghanistan | 25500100   | 652230  |\n",
    "| Algeria     | 37100000   | 2381741 |\n",
    "+-------------+------------+---------+"
   ]
  },
  {
   "cell_type": "code",
   "execution_count": null,
   "id": "5bf0e023",
   "metadata": {
    "vscode": {
     "languageId": "sql"
    }
   },
   "outputs": [],
   "source": [
    "SELECT name, population, area\n",
    "FROM World\n",
    "WHERE population >= 25000000 OR area >= 3000000"
   ]
  }
 ],
 "metadata": {
  "language_info": {
   "name": "python"
  }
 },
 "nbformat": 4,
 "nbformat_minor": 5
}
