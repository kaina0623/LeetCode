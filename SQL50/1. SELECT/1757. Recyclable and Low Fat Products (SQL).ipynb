{
 "cells": [
  {
   "cell_type": "markdown",
   "id": "3726078e",
   "metadata": {},
   "source": [
    "# 1757. Recyclable and Low Fat Products (SQL)\n",
    "\n",
    "product_id 是此表的主鍵（具有唯一值的欄位）。\n",
    "\n",
    "low_fats 是一個枚舉類型 ('Y', 'N')，其中 'Y' 表示該產品低脂，'N' 表示非低脂。\n",
    "\n",
    "recyclable 是枚舉類型 ('Y', 'N')，其中 'Y' 表示產品可回收，'N' 表示不可回收。\n",
    "\n",
    "編寫一個解決方案，尋找低脂且可回收的產品 ID。\n",
    "\n",
    "以任意順序傳回結果表。\n",
    "\n",
    "結果格式如下例所示。\n",
    "\n",
    "---\n",
    "\n",
    "product_id is the primary key (column with unique values) for this table.\n",
    "\n",
    "low_fats is an ENUM (category) of type ('Y', 'N') where 'Y' means this product is low fat and 'N' means it is not.\n",
    "\n",
    "recyclable is an ENUM (category) of types ('Y', 'N') where 'Y' means this product is recyclable and 'N' means it is not.\n",
    "\n",
    "Write a solution to find the ids of products that are both low fat and recyclable.\n",
    "\n",
    "Return the result table in any order.\n",
    "\n",
    "The result format is in the following example."
   ]
  },
  {
   "cell_type": "raw",
   "id": "bee651eb",
   "metadata": {
    "vscode": {
     "languageId": "raw"
    }
   },
   "source": [
    "Example 1:\n",
    "\n",
    "Input: \n",
    "Products table:\n",
    "+-------------+----------+------------+\n",
    "| product_id  | low_fats | recyclable |\n",
    "+-------------+----------+------------+\n",
    "| 0           | Y        | N          |\n",
    "| 1           | Y        | Y          |\n",
    "| 2           | N        | Y          |\n",
    "| 3           | Y        | Y          |\n",
    "| 4           | N        | N          |\n",
    "+-------------+----------+------------+\n",
    "Output: \n",
    "+-------------+\n",
    "| product_id  |\n",
    "+-------------+\n",
    "| 1           |\n",
    "| 3           |\n",
    "+-------------+\n",
    "Explanation: Only products 1 and 3 are both low fat and recyclable."
   ]
  },
  {
   "cell_type": "code",
   "execution_count": null,
   "id": "62731d7a",
   "metadata": {
    "vscode": {
     "languageId": "sql"
    }
   },
   "outputs": [],
   "source": [
    "SELECT product_id\n",
    "FROM Products\n",
    "WHERE low_fats = 'Y' AND recyclable = 'Y'"
   ]
  }
 ],
 "metadata": {
  "kernelspec": {
   "display_name": "base",
   "language": "python",
   "name": "python3"
  },
  "language_info": {
   "name": "python",
   "version": "3.11.5"
  }
 },
 "nbformat": 4,
 "nbformat_minor": 5
}
