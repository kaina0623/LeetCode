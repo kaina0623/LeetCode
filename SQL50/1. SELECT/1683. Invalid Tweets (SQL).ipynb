{
 "cells": [
  {
   "cell_type": "markdown",
   "id": "9292b005",
   "metadata": {},
   "source": [
    "# 1683. Invalid Tweets (SQL)\n",
    "\n",
    "tweet_id 是此表的主鍵（具有唯一值的欄位）。\n",
    "\n",
    "內容由字母數字字元、「！」或「 」組成，且不能包含其他特殊字元。\n",
    "\n",
    "此表包含社交媒體應用程式中的所有推文。\n",
    "\n",
    "編寫一個解決方案來尋找無效推文的 ID。\n",
    "\n",
    "如果推文內容中使用的字元數嚴格大於 15 個，則該推文無效。\n",
    "\n",
    "以任意順序傳回結果表。\n",
    "\n",
    "結果格式如下例所示。\n",
    "\n",
    "---\n",
    "\n",
    "tweet_id is the primary key (column with unique values) for this table.\n",
    "\n",
    "content consists of alphanumeric characters, '!', or ' ' and no other special characters.\n",
    "\n",
    "This table contains all the tweets in a social media app.\n",
    " \n",
    "Write a solution to find the IDs of the invalid tweets. \n",
    "\n",
    "The tweet is invalid if the number of characters used in the content of the tweet is strictly greater than 15.\n",
    "\n",
    "Return the result table in any order.\n",
    "\n",
    "The result format is in the following example."
   ]
  },
  {
   "cell_type": "code",
   "execution_count": null,
   "id": "181a34f9",
   "metadata": {
    "vscode": {
     "languageId": "plaintext"
    }
   },
   "outputs": [],
   "source": [
    "Input: \n",
    "Tweets table:\n",
    "+----------+-----------------------------------+\n",
    "| tweet_id | content                           |\n",
    "+----------+-----------------------------------+\n",
    "| 1        | Let us Code                       |\n",
    "| 2        | More than fifteen chars are here! |\n",
    "+----------+-----------------------------------+\n",
    "Output: \n",
    "+----------+\n",
    "| tweet_id |\n",
    "+----------+\n",
    "| 2        |\n",
    "+----------+\n",
    "Explanation: \n",
    "Tweet 1 has length = 11. It is a valid tweet.\n",
    "Tweet 2 has length = 33. It is an invalid tweet."
   ]
  },
  {
   "cell_type": "code",
   "execution_count": null,
   "id": "e6f7105b",
   "metadata": {
    "vscode": {
     "languageId": "sql"
    }
   },
   "outputs": [],
   "source": [
    "SELECT tweet_id\n",
    "FROM Tweets\n",
    "WHERE length(content) > 15;"
   ]
  }
 ],
 "metadata": {
  "language_info": {
   "name": "python"
  }
 },
 "nbformat": 4,
 "nbformat_minor": 5
}
