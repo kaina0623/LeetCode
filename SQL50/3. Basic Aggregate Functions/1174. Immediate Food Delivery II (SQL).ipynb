{
 "cells": [
  {
   "cell_type": "markdown",
   "id": "38ae1b06",
   "metadata": {},
   "source": [
    "# 1174. Immediate Food Delivery II (SQL)"
   ]
  },
  {
   "cell_type": "code",
   "execution_count": null,
   "id": "698085fb",
   "metadata": {
    "vscode": {
     "languageId": "plaintext"
    }
   },
   "outputs": [],
   "source": [
    "Table: Delivery\n",
    "+-----------------------------+---------+\n",
    "| Column Name                 | Type    |\n",
    "+-----------------------------+---------+\n",
    "| delivery_id                 | int     |\n",
    "| customer_id                 | int     |\n",
    "| order_date                  | date    |\n",
    "| customer_pref_delivery_date | date    |\n",
    "+-----------------------------+---------+\n",
    "delivery_id is the column of unique values of this table.\n",
    "The table holds information about food delivery to customers that \n",
    "make orders at some date and specify a preferred delivery date (on the same order date or after it).\n",
    "\n",
    "If the customer's preferred delivery date is the same as the order date, then the order is called immediate; otherwise, it is called scheduled.\n",
    "The first order of a customer is the order with the earliest order date that the customer made. It is guaranteed that a customer has precisely one first order.\n",
    "Write a solution to find the percentage of immediate orders in the first orders of all customers, rounded to 2 decimal places.\n",
    "The result format is in the following example.\n",
    "\n",
    "delivery_id 是此表的唯一值列。\n",
    "表格保存了向在某個日期下單並指定了首選配送日期（與訂單日期相同或之後）的顧客配送食品的資訊。\n",
    "\n",
    "如果顧客的首選配送日期與訂單日期相同，則該訂單稱為「立即送達」；否則，稱為「預定送達」。\n",
    "顧客的首單是其下單日期最早的訂單。保證每位顧客只有一張首單。\n",
    "寫一個解決方案，計算所有顧客首單中「立即送達」的百分比，四捨五入到小數點後兩位。\n",
    "結果格式如下例所示。\n",
    "\n",
    "\n",
    "Example 1:\n",
    "Input: \n",
    "Delivery table:\n",
    "+-------------+-------------+------------+-----------------------------+\n",
    "| delivery_id | customer_id | order_date | customer_pref_delivery_date |\n",
    "+-------------+-------------+------------+-----------------------------+\n",
    "| 1           | 1           | 2019-08-01 | 2019-08-02                  |\n",
    "| 2           | 2           | 2019-08-02 | 2019-08-02                  |\n",
    "| 3           | 1           | 2019-08-11 | 2019-08-12                  |\n",
    "| 4           | 3           | 2019-08-24 | 2019-08-24                  |\n",
    "| 5           | 3           | 2019-08-21 | 2019-08-22                  |\n",
    "| 6           | 2           | 2019-08-11 | 2019-08-13                  |\n",
    "| 7           | 4           | 2019-08-09 | 2019-08-09                  |\n",
    "+-------------+-------------+------------+-----------------------------+\n",
    "Output: \n",
    "+----------------------+\n",
    "| immediate_percentage |\n",
    "+----------------------+\n",
    "| 50.00                |\n",
    "+----------------------+\n",
    "Explanation: \n",
    "The customer id 1 has a first order with delivery id 1 and it is scheduled.\n",
    "The customer id 2 has a first order with delivery id 2 and it is immediate.\n",
    "The customer id 3 has a first order with delivery id 5 and it is scheduled.\n",
    "The customer id 4 has a first order with delivery id 7 and it is immediate.\n",
    "Hence, half the customers have immediate first orders.\n",
    "\n",
    "\n",
    "審題：寫一條 SQL 查詢語句取得即時訂單在所有使用者的首次訂單中的比例。保留兩位小數。\n",
    "\n",
    "思考：依使用者id分組，依日期分組，求分組第一個日期及配送時期是否相等為分子，分母為分組數。"
   ]
  },
  {
   "cell_type": "code",
   "execution_count": null,
   "id": "20735e41",
   "metadata": {
    "vscode": {
     "languageId": "sql"
    }
   },
   "outputs": [],
   "source": [
    "SELECT \n",
    "    ROUND(\n",
    "        SUM(CASE WHEN order_date = customer_pref_delivery_date THEN 1 ELSE 0 END) * 100 / COUNT(*)\n",
    "    , 2) AS immediate_percentage\n",
    "FROM Delivery\n",
    "WHERE (customer_id, order_date) IN (\n",
    "    SELECT customer_id, MIN(order_date)\n",
    "    FROM Delivery\n",
    "    GROUP BY customer_id); \n",
    "    \n",
    "    --找出每個客戶的第一筆訂單日期。 用 (customer_id, order_date) 當複合條件，過濾出 Delivery 表中每個客戶的第一筆訂單。"
   ]
  },
  {
   "cell_type": "code",
   "execution_count": null,
   "id": "3361be88",
   "metadata": {
    "vscode": {
     "languageId": "sql"
    }
   },
   "outputs": [],
   "source": [
    "select \n",
    "    ROUND(Sum(IF(order_date = customer_pref_delivery_date, 1 ,0))* 100/Count(distinct customer_id), 2)\n",
    "    as immediate_percentage\n",
    "from delivery\n",
    "where(customer_id, order_date) in\n",
    "    (\n",
    "        select customer_id, MIN(order_date)\n",
    "        from delivery\n",
    "        group by customer_id\n",
    "    )"
   ]
  }
 ],
 "metadata": {
  "language_info": {
   "name": "python"
  }
 },
 "nbformat": 4,
 "nbformat_minor": 5
}
