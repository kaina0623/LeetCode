{
 "cells": [
  {
   "cell_type": "markdown",
   "id": "fd9de672",
   "metadata": {},
   "source": [
    "# 1193. Monthly Transactions I (SQL)"
   ]
  },
  {
   "cell_type": "code",
   "execution_count": null,
   "id": "98696e12",
   "metadata": {
    "vscode": {
     "languageId": "plaintext"
    }
   },
   "outputs": [],
   "source": [
    "Table: Transactions\n",
    "+---------------+---------+\n",
    "| Column Name   | Type    |\n",
    "+---------------+---------+\n",
    "| id            | int     |\n",
    "| country       | varchar |\n",
    "| state         | enum    |\n",
    "| amount        | int     |\n",
    "| trans_date    | date    |\n",
    "+---------------+---------+\n",
    "\n",
    "id is the primary key of this table.\n",
    "The table has information about incoming transactions.\n",
    "The state column is an enum of type [\"approved\", \"declined\"].\n",
    "\n",
    "id 是此表的主鍵。\n",
    "此表包含有關傳入交易的資訊。\n",
    "state 欄位是 [\"approved\", \"declined\"] 型態的枚舉。\n",
    " \n",
    "\n",
    "Write an SQL query to find for each month and country, the number of transactions and their total amount, \n",
    "the number of approved transactions and their total amount.\n",
    "Return the result table in any order.\n",
    "The query result format is in the following example.\n",
    "\n",
    "編寫一個 SQL 查詢，找出每個月份和國家的交易數量及其總金額，\n",
    "已批准的交易數量及其總金額。\n",
    "以任意順序傳回結果表。\n",
    "查詢結果格式如下例所示。\n",
    "\n",
    "Example 1:\n",
    "\n",
    "Input: \n",
    "Transactions table:\n",
    "+------+---------+----------+--------+------------+\n",
    "| id   | country | state    | amount | trans_date |\n",
    "+------+---------+----------+--------+------------+\n",
    "| 121  | US      | approved | 1000   | 2018-12-18 |\n",
    "| 122  | US      | declined | 2000   | 2018-12-19 |\n",
    "| 123  | US      | approved | 2000   | 2019-01-01 |\n",
    "| 124  | DE      | approved | 2000   | 2019-01-07 |\n",
    "+------+---------+----------+--------+------------+\n",
    "Output: \n",
    "+----------+---------+-------------+----------------+--------------------+-----------------------+\n",
    "| month    | country | trans_count | approved_count | trans_total_amount | approved_total_amount |\n",
    "+----------+---------+-------------+----------------+--------------------+-----------------------+\n",
    "| 2018-12  | US      | 2           | 1              | 3000               | 1000                  |\n",
    "| 2019-01  | US      | 1           | 1              | 2000               | 2000                  |\n",
    "| 2019-01  | DE      | 1           | 1              | 2000               | 2000                  |\n",
    "+----------+---------+-------------+----------------+--------------------+-----------------------+"
   ]
  },
  {
   "cell_type": "code",
   "execution_count": null,
   "id": "2b3047ca",
   "metadata": {
    "vscode": {
     "languageId": "sql"
    }
   },
   "outputs": [],
   "source": [
    "SELECT \n",
    "    DATE_FORMAT(trans_date,'%Y-%m') AS month,\n",
    "    country,\n",
    "    COUNT(*) AS trans_count,\n",
    "    SUM(state = 'approved') AS approved_count,\n",
    "    SUM(amount) AS trans_total_amount,\n",
    "    SUM(IF(state = 'approved', amount, 0)) AS approved_total_amount\n",
    "FROM Transactions\n",
    "GROUP BY 1, 2\n",
    "    "
   ]
  }
 ],
 "metadata": {
  "language_info": {
   "name": "python"
  }
 },
 "nbformat": 4,
 "nbformat_minor": 5
}
