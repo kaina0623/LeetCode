{
 "cells": [
  {
   "cell_type": "markdown",
   "id": "b11ed7fa",
   "metadata": {},
   "source": [
    "# 1075. Project Employees I (SQL)"
   ]
  },
  {
   "cell_type": "code",
   "execution_count": null,
   "id": "c6f0300f",
   "metadata": {
    "vscode": {
     "languageId": "plaintext"
    }
   },
   "outputs": [],
   "source": [
    "Table: Project\n",
    "+-------------+---------+\n",
    "| Column Name | Type    |\n",
    "+-------------+---------+\n",
    "| project_id  | int     |\n",
    "| employee_id | int     |\n",
    "+-------------+---------+\n",
    "(project_id, employee_id) is the primary key of this table.\n",
    "employee_id is a foreign key to Employee table.\n",
    "Each row of this table indicates that the employee with employee_id is working on the project with project_id.\n",
    " \n",
    "(project_id, employee_id) 是此表的主鍵。\n",
    "employee_id 是 Employee 表的外鍵。\n",
    "此表的每一行都表示 employee_id 為員工，正在處理 project_id 為專案的工作。\n",
    "\n",
    "Table: Employee\n",
    "+------------------+---------+\n",
    "| Column Name      | Type    |\n",
    "+------------------+---------+\n",
    "| employee_id      | int     |\n",
    "| name             | varchar |\n",
    "| experience_years | int     |\n",
    "+------------------+---------+\n",
    "employee_id is the primary key of this table. It's guaranteed that experience_years is not NULL.\n",
    "Each row of this table contains information about one employee.\n",
    "\n",
    "Write an SQL query that reports the average experience years of all the employees for each project, rounded to 2 digits.\n",
    "Return the result table in any order.\n",
    "The query result format is in the following example.\n",
    "\n",
    "employee_id 是此表的主鍵。 experience_years 保證不為 NULL。\n",
    "此表的每一行包含一位員工的資訊。\n",
    "\n",
    "寫一個 SQL 查詢，報告每個專案所有員工的平均工作年限，四捨五入到兩位數。\n",
    "以任意順序傳回結果表。\n",
    "查詢結果格式如下例所示。\n",
    "\n",
    "\n",
    "Example 1:\n",
    "\n",
    "Input: \n",
    "Project table:\n",
    "+-------------+-------------+\n",
    "| project_id  | employee_id |\n",
    "+-------------+-------------+\n",
    "| 1           | 1           |\n",
    "| 1           | 2           |\n",
    "| 1           | 3           |\n",
    "| 2           | 1           |\n",
    "| 2           | 4           |\n",
    "+-------------+-------------+\n",
    "Employee table:\n",
    "+-------------+--------+------------------+\n",
    "| employee_id | name   | experience_years |\n",
    "+-------------+--------+------------------+\n",
    "| 1           | Khaled | 3                |\n",
    "| 2           | Ali    | 2                |\n",
    "| 3           | John   | 1                |\n",
    "| 4           | Doe    | 2                |\n",
    "+-------------+--------+------------------+\n",
    "Output: \n",
    "+-------------+---------------+\n",
    "| project_id  | average_years |\n",
    "+-------------+---------------+\n",
    "| 1           | 2.00          |\n",
    "| 2           | 2.50          |\n",
    "+-------------+---------------+\n",
    "Explanation: The average experience years for the first project is (3 + 2 + 1) / 3 = 2.00 and for the second project is (3 + 2) / 2 = 2.50"
   ]
  },
  {
   "cell_type": "code",
   "execution_count": null,
   "id": "37497bd7",
   "metadata": {
    "vscode": {
     "languageId": "sql"
    }
   },
   "outputs": [],
   "source": [
    "SELECT Project.project_id, ROUND((SUM(Employee.experience_years) / COUNT(Employee.name)), 2) AS average_years\n",
    "FROM Project LEFT JOIN Employee \n",
    "USING(employee_id)\n",
    "GROUP BY Project.project_id"
   ]
  },
  {
   "cell_type": "code",
   "execution_count": null,
   "id": "0c365748",
   "metadata": {
    "vscode": {
     "languageId": "sql"
    }
   },
   "outputs": [],
   "source": [
    "SELECT Project.project_id, ROUND(AVG(Employee.experience_years), 2) AS average_years\n",
    "FROM Project LEFT JOIN Employee \n",
    "USING(employee_id)\n",
    "GROUP BY Project.project_id"
   ]
  },
  {
   "cell_type": "markdown",
   "id": "d4ec695f",
   "metadata": {},
   "source": [
    "* 最快的"
   ]
  },
  {
   "cell_type": "code",
   "execution_count": null,
   "id": "d9d4f7a9",
   "metadata": {
    "vscode": {
     "languageId": "sql"
    }
   },
   "outputs": [],
   "source": [
    "SELECT Project.project_id, ROUND(AVG(Employee.experience_years), 2) AS average_years\n",
    "FROM Project LEFT JOIN Employee \n",
    "ON Project.employee_id = Employee.employee_id\n",
    "GROUP BY Project.project_id"
   ]
  }
 ],
 "metadata": {
  "language_info": {
   "name": "python"
  }
 },
 "nbformat": 4,
 "nbformat_minor": 5
}
