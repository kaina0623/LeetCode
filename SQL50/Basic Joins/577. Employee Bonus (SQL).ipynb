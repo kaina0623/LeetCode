{
 "cells": [
  {
   "cell_type": "markdown",
   "id": "004adfe1",
   "metadata": {},
   "source": [
    "# 577. Employee Bonus (SQL)"
   ]
  },
  {
   "cell_type": "raw",
   "id": "ef3ab297",
   "metadata": {
    "vscode": {
     "languageId": "raw"
    }
   },
   "source": [
    "Table: Employee\n",
    "+-------------+---------+\n",
    "| Column Name | Type    |\n",
    "+-------------+---------+\n",
    "| empId       | int     |\n",
    "| name        | varchar |\n",
    "| supervisor  | int     |\n",
    "| salary      | int     |\n",
    "+-------------+---------+\n",
    "empId is the column with unique values for this table.\n",
    "Each row of this table indicates the name and the ID of an employee in addition to their salary and the id of their manager.\n",
    " \n",
    "empId 是此表中具有唯一值的欄位。\n",
    "此表的每一行都指示員工的姓名和 ID，以及他們的工資和經理的 ID。\n",
    "\n",
    "Table: Bonus\n",
    "+-------------+------+\n",
    "| Column Name | Type |\n",
    "+-------------+------+\n",
    "| empId       | int  |\n",
    "| bonus       | int  |\n",
    "+-------------+------+\n",
    "empId is the column of unique values for this table.\n",
    "empId is a foreign key (reference column) to empId from the Employee table.\n",
    "Each row of this table contains the id of an employee and their respective bonus.\n",
    " \n",
    "empId 是此表的唯一值欄位。\n",
    "empId 是指向 Employee 表中 empId 的外部鍵（引用列）。\n",
    "此表的每一行都包含員工的 ID 及其相應的獎金。\n",
    "\n",
    "Write a solution to report the name and bonus amount of each employee with a bonus less than 1000.\n",
    "Return the result table in any order.\n",
    "The result format is in the following example.\n",
    "\n",
    "編寫一個解決方案，列出每位獎金低於 1000 美元的員工的姓名和獎金金額。\n",
    "以任意順序傳回結果表。\n",
    "結果格式如下例所示。\n",
    " \n",
    "\n",
    "Example 1:\n",
    "Input: \n",
    "Employee table:\n",
    "+-------+--------+------------+--------+\n",
    "| empId | name   | supervisor | salary |\n",
    "+-------+--------+------------+--------+\n",
    "| 3     | Brad   | null       | 4000   |\n",
    "| 1     | John   | 3          | 1000   |\n",
    "| 2     | Dan    | 3          | 2000   |\n",
    "| 4     | Thomas | 3          | 4000   |\n",
    "+-------+--------+------------+--------+\n",
    "\n",
    "Bonus table:\n",
    "+-------+-------+\n",
    "| empId | bonus |\n",
    "+-------+-------+\n",
    "| 2     | 500   |\n",
    "| 4     | 2000  |\n",
    "+-------+-------+\n",
    "Output: \n",
    "+------+-------+\n",
    "| name | bonus |\n",
    "+------+-------+\n",
    "| Brad | null  |\n",
    "| John | null  |\n",
    "| Dan  | 500   |\n",
    "+------+-------+"
   ]
  },
  {
   "cell_type": "code",
   "execution_count": null,
   "id": "dce2b79e",
   "metadata": {
    "vscode": {
     "languageId": "sql"
    }
   },
   "outputs": [],
   "source": [
    "SELECT E.name, B.bonus\n",
    "FROM Employee E LEFT JOIN Bonus B\n",
    "ON E.empId = B.empId\n",
    "WHERE B.Bonus < 1000 OR B.Bonus IS NULL"
   ]
  },
  {
   "cell_type": "code",
   "execution_count": null,
   "id": "97449518",
   "metadata": {
    "vscode": {
     "languageId": "sql"
    }
   },
   "outputs": [],
   "source": [
    "SELECT E.name, B.bonus\n",
    "FROM Employee E LEFT JOIN Bonus B\n",
    "USING(empId)\n",
    "WHERE IFNULL(B.bonus,0) < 1000"
   ]
  }
 ],
 "metadata": {
  "language_info": {
   "name": "python"
  }
 },
 "nbformat": 4,
 "nbformat_minor": 5
}
