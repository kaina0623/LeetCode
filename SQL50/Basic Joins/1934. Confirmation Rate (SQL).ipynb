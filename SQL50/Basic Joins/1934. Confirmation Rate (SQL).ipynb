{
 "cells": [
  {
   "cell_type": "markdown",
   "id": "61084ed4",
   "metadata": {},
   "source": [
    "# 1934. Confirmation Rate (SQL)"
   ]
  },
  {
   "cell_type": "code",
   "execution_count": null,
   "id": "2c82d675",
   "metadata": {
    "vscode": {
     "languageId": "plaintext"
    }
   },
   "outputs": [],
   "source": [
    "Table: Signups\n",
    "+----------------+----------+\n",
    "| Column Name    | Type     |\n",
    "+----------------+----------+\n",
    "| user_id        | int      |\n",
    "| time_stamp     | datetime |\n",
    "+----------------+----------+\n",
    "user_id is the column of unique values for this table.\n",
    "Each row contains information about the signup time for the user with ID user_id.\n",
    " \n",
    "user_id 是此表的唯一值欄位。\n",
    "每行包含 ID 為 user_id 的使用者的註冊時間資訊。\n",
    "\n",
    "Table: Confirmations\n",
    "+----------------+----------+\n",
    "| Column Name    | Type     |\n",
    "+----------------+----------+\n",
    "| user_id        | int      |\n",
    "| time_stamp     | datetime |\n",
    "| action         | ENUM     |\n",
    "+----------------+----------+\n",
    "(user_id, time_stamp) is the primary key (combination of columns with unique values) for this table.\n",
    "user_id is a foreign key (reference column) to the Signups table.\n",
    "action is an ENUM (category) of the type ('confirmed', 'timeout')\n",
    "Each row of this table indicates that the user with ID user_id requested a confirmation message at time_stamp and that confirmation message was either confirmed ('confirmed') or expired without confirming ('timeout').\n",
    "\n",
    "(user_id, time_stamp) 是此表的主鍵（具有唯一值的列的組合）。\n",
    "user_id 是 Signups 表的外部鍵（參考列）。\n",
    "action 是一個列舉（類別），類型為 ('confirmed', 'timeout')。\n",
    "此表的每一行都表示 ID 為 user_id 的使用者在 time_stamp 請求了確認訊息，並且該確認訊息已確認（「confirmed」）或過期且未確認（「timeout」）。\n",
    "\n",
    "The confirmation rate of a user is the number of 'confirmed' messages divided by the total number of requested confirmation messages. \n",
    "The confirmation rate of a user that did not request any confirmation messages is 0. Round the confirmation rate to two decimal places.\n",
    "Write a solution to find the confirmation rate of each user.\n",
    "Return the result table in any order.\n",
    "The result format is in the following example.\n",
    "\n",
    "用戶的確認率等於「已確認」訊息數除以請求確認訊息總數。\n",
    "未要求任何確認訊息的用戶的確認率為 0。請將確認率四捨五入至小數點後兩位。\n",
    "編寫一個解決方案來計算每個使用者的確認率。\n",
    "以任意順序傳回結果表。\n",
    "結果格式如下例所示。\n",
    "\n",
    "\n",
    "\n",
    "Example 1:\n",
    "\n",
    "Input: \n",
    "Signups table:\n",
    "+---------+---------------------+\n",
    "| user_id | time_stamp          |\n",
    "+---------+---------------------+\n",
    "| 3       | 2020-03-21 10:16:13 |\n",
    "| 7       | 2020-01-04 13:57:59 |\n",
    "| 2       | 2020-07-29 23:09:44 |\n",
    "| 6       | 2020-12-09 10:39:37 |\n",
    "+---------+---------------------+\n",
    "\n",
    "Confirmations table:\n",
    "+---------+---------------------+-----------+\n",
    "| user_id | time_stamp          | action    |\n",
    "+---------+---------------------+-----------+\n",
    "| 3       | 2021-01-06 03:30:46 | timeout   |\n",
    "| 3       | 2021-07-14 14:00:00 | timeout   |\n",
    "| 7       | 2021-06-12 11:57:29 | confirmed |\n",
    "| 7       | 2021-06-13 12:58:28 | confirmed |\n",
    "| 7       | 2021-06-14 13:59:27 | confirmed |\n",
    "| 2       | 2021-01-22 00:00:00 | confirmed |\n",
    "| 2       | 2021-02-28 23:59:59 | timeout   |\n",
    "+---------+---------------------+-----------+\n",
    "\n",
    "Output: \n",
    "+---------+-------------------+\n",
    "| user_id | confirmation_rate |\n",
    "+---------+-------------------+\n",
    "| 6       | 0.00              |\n",
    "| 3       | 0.00              |\n",
    "| 7       | 1.00              |\n",
    "| 2       | 0.50              |\n",
    "+---------+-------------------+\n",
    "\n",
    "Explanation: \n",
    "User 6 did not request any confirmation messages. The confirmation rate is 0.\n",
    "User 3 made 2 requests and both timed out. The confirmation rate is 0.\n",
    "User 7 made 3 requests and all were confirmed. The confirmation rate is 1.\n",
    "User 2 made 2 requests where one was confirmed and the other timed out. The confirmation rate is 1 / 2 = 0.5."
   ]
  },
  {
   "cell_type": "code",
   "execution_count": null,
   "id": "3292654f",
   "metadata": {
    "vscode": {
     "languageId": "sql"
    }
   },
   "outputs": [],
   "source": [
    "SELECT Signups.user_id, ROUND(AVG(IF(action = 'confirmed',1,0)), 2) AS confirmation_rate\n",
    "FROM Signups LEFT JOIN Confirmations\n",
    "ON Signups.user_id = Confirmations.user_id\n",
    "GROUP BY 1; --GROUP BY Signups.user_id 依照 SELECT 中的第 1 欄分組"
   ]
  }
 ],
 "metadata": {
  "language_info": {
   "name": "python"
  }
 },
 "nbformat": 4,
 "nbformat_minor": 5
}
