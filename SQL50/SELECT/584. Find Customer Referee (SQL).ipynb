{
 "cells": [
  {
   "cell_type": "markdown",
   "id": "a7fbb76e",
   "metadata": {},
   "source": [
    "# 584. Find Customer Referee (SQL)\n",
    "在 SQL 中，id 是此表的主鍵列。\n",
    "\n",
    "此表的每一行都包含客戶的 id、客戶姓名以及推薦客戶的 id。\n",
    "\n",
    "尋找符合以下任一條件的客戶姓名：\n",
    "\n",
    "由 id != 2 的任何客戶推薦。\n",
    "\n",
    "未被任何客戶推薦。\n",
    "\n",
    "以任意順序傳回結果表。\n",
    "\n",
    "結果格式如下例所示。\n",
    "\n",
    "---\n",
    "\n",
    "In SQL, id is the primary key column for this table.\n",
    "\n",
    "Each row of this table indicates the id of a customer, their name, and the id of the customer who referred them.\n",
    "\n",
    "Find the names of the customer that are either:\n",
    "\n",
    "1. referred by any customer with `id != 2`.\n",
    "\n",
    "2. not referred by any customer.\n",
    "\n",
    "Return the result table in any order.\n",
    "\n",
    "The result format is in the following example."
   ]
  },
  {
   "cell_type": "raw",
   "id": "a281941e",
   "metadata": {
    "vscode": {
     "languageId": "raw"
    }
   },
   "source": [
    "Example 1:\n",
    "\n",
    "Input: \n",
    "Customer table:\n",
    "+----+------+------------+\n",
    "| id | name | referee_id |\n",
    "+----+------+------------+\n",
    "| 1  | Will | null       |\n",
    "| 2  | Jane | null       |\n",
    "| 3  | Alex | 2          |\n",
    "| 4  | Bill | null       |\n",
    "| 5  | Zack | 1          |\n",
    "| 6  | Mark | 2          |\n",
    "+----+------+------------+\n",
    "Output: \n",
    "+------+\n",
    "| name |\n",
    "+------+\n",
    "| Will |\n",
    "| Jane |\n",
    "| Bill |\n",
    "| Zack |\n",
    "+------+"
   ]
  },
  {
   "cell_type": "code",
   "execution_count": null,
   "id": "3c0be8ef",
   "metadata": {
    "vscode": {
     "languageId": "sql"
    }
   },
   "outputs": [],
   "source": [
    "SELECT name\n",
    "FROM Customer\n",
    "WHERE referee_id != 2 OR referee_id IS NULL;"
   ]
  }
 ],
 "metadata": {
  "kernelspec": {
   "display_name": "base",
   "language": "python",
   "name": "python3"
  },
  "language_info": {
   "name": "python",
   "version": "3.11.5"
  }
 },
 "nbformat": 4,
 "nbformat_minor": 5
}
