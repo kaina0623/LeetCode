{
 "cells": [
  {
   "cell_type": "markdown",
   "id": "0618f74b",
   "metadata": {},
   "source": [
    "# 2438. Range Product Queries of Powers\n",
    "\n",
    "\n",
    "給定一個正整數 n，存在一個名為 powers 的數組，該數組由 2 的冪的最小個數組成，且總和為 n。\n",
    "\n",
    "該數組按非減序排序，並且只有一種構造方法。\n",
    "\n",
    "你也獲得了一個 0 索引的二維整數數組 querys，其中 querys[i] = [lefti, righti]。\n",
    "\n",
    "每個 querys[i] 代表一個查詢，你需要找到所有 powers[j] 的乘積，且 lefti <= j <= righti。\n",
    "\n",
    "傳回一個長度與 querys 相等的陣列 answers，其中 answers[i] 是第 i 個查詢的答案。\n",
    "\n",
    "由於第 i 個查詢的答案可能太大，因此每個 answers[i] 都應以 10^9 + 7 為模傳回。\n",
    "\n",
    "--- \n",
    "\n",
    "Given a positive integer n, there exists a 0-indexed array called powers, composed of the minimum number of powers of 2 that sum to n. \n",
    "\n",
    "The array is sorted in non-decreasing order, and there is only one way to form the array.\n",
    "\n",
    "You are also given a 0-indexed 2D integer array queries, where queries[i] = [lefti, righti]. \n",
    "\n",
    "Each queries[i] represents a query where you have to find the product of all powers[j] with lefti <= j <= righti.\n",
    "\n",
    "Return an array answers, equal in length to queries, where answers[i] is the answer to the ith query. \n",
    "\n",
    "Since the answer to the ith query may be too large, each answers[i] should be returned modulo 109 + 7.\n",
    "\n",
    "\n",
    "Example 1:\n",
    "- Input: n = 15, queries = [[0,1],[2,2],[0,3]]\n",
    "- Output: [2,4,64]\n",
    "- Explanation:\n",
    "- For n = 15, powers = [1,2,4,8]. It can be shown that powers cannot be a smaller size.\n",
    "- Answer to 1st query: powers[0] * powers[1] = 1 * 2 = 2.\n",
    "- Answer to 2nd query: powers[2] = 4.\n",
    "- Answer to 3rd query: powers[0] * powers[1] * powers[2] * powers[3] = 1 * 2 * 4 * 8 = 64.\n",
    "- Each answer modulo 109 + 7 yields the same answer, so [2,4,64] is returned.\n",
    "\n",
    "Example 2:\n",
    "- Input: n = 2, queries = [[0,0]]\n",
    "- Output: [2]\n",
    "- Explanation:\n",
    "- For n = 2, powers = [2].\n",
    "- The answer to the only query is powers[0] = 2. The answer modulo 109 + 7 is the same, so [2] is returned."
   ]
  },
  {
   "cell_type": "code",
   "execution_count": 18,
   "id": "e88b16e5",
   "metadata": {},
   "outputs": [],
   "source": [
    "# 時間複雜度：Ｏ(len)\n",
    "\n",
    "class Solution:\n",
    "    def productQueries(self, n: int, queries: list[list[int]]) -> list[int]:\n",
    "        MOD = 1_000_000_007 # MOD = 10**9 + 7\n",
    "\n",
    "        # 依 bit 從小到大建立 powers\n",
    "        powers = []\n",
    "        for i in range(30):\n",
    "            if(n >> i) & 1: \n",
    "                powers.append(1 << i) # 快速算法 或 2**i 也可以\n",
    "\n",
    "        # 建立 answer[]\n",
    "        ans = []\n",
    "        for left, right in queries:\n",
    "            prod = 1\n",
    "            for i in range(left, right + 1):\n",
    "                prod = (prod * powers[i]) % MOD\n",
    "            ans.append(prod)\n",
    "        return ans\n"
   ]
  },
  {
   "cell_type": "markdown",
   "id": "c41eb665",
   "metadata": {},
   "source": [
    "* 解法二關鍵字：反元素，費馬小定理。"
   ]
  },
  {
   "cell_type": "code",
   "execution_count": 19,
   "id": "2776edb4",
   "metadata": {},
   "outputs": [],
   "source": [
    "class Solution1:\n",
    "    def productQueries(self, n: int, queries: list[list[int]]) -> list[int]:\n",
    "        MOD = 1_000_000_007\n",
    "        powers = [1 << i for i in range(31) if (n >> i) & 1]\n",
    "\n",
    "        # 前綴乘積\n",
    "        pref = []\n",
    "        cur = 1\n",
    "        for x in powers:\n",
    "            cur = (cur * x) % MOD\n",
    "            pref.append(cur)\n",
    "\n",
    "        def range_prod(l: int, r: int) -> int:\n",
    "            if l == 0: \n",
    "                return pref[r]\n",
    "            return pref[r] * pow(pref[l-1], MOD - 2, MOD) % MOD\n",
    "\n",
    "        return [range_prod(l, r) for l, r in queries]\n"
   ]
  },
  {
   "cell_type": "code",
   "execution_count": 20,
   "id": "8dea84e3",
   "metadata": {},
   "outputs": [
    {
     "name": "stdout",
     "output_type": "stream",
     "text": [
      "[2, 4, 64]\n"
     ]
    }
   ],
   "source": [
    "sol = Solution()\n",
    "\n",
    "print(sol.productQueries(n=15,queries=[[0,1],[2,2],[0,3]]))"
   ]
  },
  {
   "cell_type": "code",
   "execution_count": 21,
   "id": "1bb1a573",
   "metadata": {},
   "outputs": [
    {
     "name": "stdout",
     "output_type": "stream",
     "text": [
      "[2, 4, 64]\n"
     ]
    }
   ],
   "source": [
    "sol = Solution1()\n",
    "\n",
    "print(sol.productQueries(n=15,queries=[[0,1],[2,2],[0,3]]))"
   ]
  }
 ],
 "metadata": {
  "kernelspec": {
   "display_name": "base",
   "language": "python",
   "name": "python3"
  },
  "language_info": {
   "codemirror_mode": {
    "name": "ipython",
    "version": 3
   },
   "file_extension": ".py",
   "mimetype": "text/x-python",
   "name": "python",
   "nbconvert_exporter": "python",
   "pygments_lexer": "ipython3",
   "version": "3.11.5"
  }
 },
 "nbformat": 4,
 "nbformat_minor": 5
}
