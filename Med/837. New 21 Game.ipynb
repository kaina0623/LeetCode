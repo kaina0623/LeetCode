{
 "cells": [
  {
   "cell_type": "markdown",
   "id": "fdbfec1e",
   "metadata": {},
   "source": [
    "# 837. New 21 Game\n"
   ]
  },
  {
   "cell_type": "raw",
   "id": "13a93ac6",
   "metadata": {
    "vscode": {
     "languageId": "raw"
    }
   },
   "source": [
    "Alice plays the following game, loosely based on the card game \"21\".\n",
    "Alice starts with 0 points and draws numbers while she has less than k points. During each draw, \n",
    "she gains an integer number of points randomly from the range [1, maxPts], where maxPts is an integer. \n",
    "Each draw is independent and the outcomes have equal probabilities.\n",
    "Alice stops drawing numbers when she gets k or more points.\n",
    "Return the probability that Alice has n or fewer points.\n",
    "Answers within 10-5 of the actual answer are considered accepted.\n",
    "\n",
    "\n",
    "Alice 玩以下遊戲，大致基於紙牌遊戲「21」。\n",
    "Alice 初始點數為 0，當她的點數少於 k 時，她會抽取數字。每次抽取時，\n",
    "她會從 [1, maxPts] 範圍內隨機獲得整數點數，其中 maxPts 為整數。\n",
    "每次抽取都是獨立的，且結果的機率相等。\n",
    "當 Alice 獲得 k 或更多點數時，她會停止抽取數字。\n",
    "傳回 Alice 獲得 n 或更少點數的機率。\n",
    "與實際答案相差 10-5 以內的答案均視為可接受。\n",
    "\n",
    "\n",
    "Example 1:\n",
    "    Input: n = 10, k = 1, maxPts = 10\n",
    "    Output: 1.00000\n",
    "    Explanation: Alice gets a single card, then stops.\n",
    "\n",
    "Example 2:\n",
    "    Input: n = 6, k = 1, maxPts = 10\n",
    "    Output: 0.60000\n",
    "    Explanation: Alice gets a single card, then stops.\n",
    "    In 6 out of 10 possibilities, she is at or below 6 points.\n",
    "\n",
    "Example 3:\n",
    "    Input: n = 21, k = 17, maxPts = 10\n",
    "    Output: 0.73278\n",
    " \n",
    "\n",
    "Constraints:\n",
    "    0 <= k <= n <= 104\n",
    "    1 <= maxPts <= 104"
   ]
  },
  {
   "cell_type": "code",
   "execution_count": null,
   "id": "9d18b1bb",
   "metadata": {},
   "outputs": [],
   "source": [
    "class Solution:\n",
    "    def new21Game(self, n: int, k: int, maxPts: int) -> float:\n",
    "\n",
    "        # 特殊情況：一開始就停 or n 足夠大 → 直接 1\n",
    "        if k == 0 or n >= k + maxPts - 1:\n",
    "            return 1.0\n",
    "\n",
    "        # 建立 dp[] 大小，長度為 n+maxPts+1 ，(確保 dp[i+maxPts] 不會爆。) 並且都設定為浮點數0.0\n",
    "        dp = [0.0] * (n + maxPts + 1)\n",
    "\n",
    "        # 在 [k, n] 之間停下來的機率都是 1\n",
    "        for i in range(k, n + 1):\n",
    "            dp[i] = 1.0\n",
    "\n",
    "        # 初始化滑動窗口和 最後三個總和 總合為 (maxPts-1) \n",
    "        window_sum = sum(dp[k : k + maxPts])\n",
    "\n",
    "        # 從後往前推算 dp[x] 從 k-1 開始往下算 每次-1\n",
    "        for i in range(k - 1, -1, -1):\n",
    "            dp[i] = window_sum / maxPts \n",
    "            window_sum += dp[i] - dp[i + maxPts] # 移出最後一個質\n",
    "\n",
    "        return dp[0]"
   ]
  }
 ],
 "metadata": {
  "kernelspec": {
   "display_name": "base",
   "language": "python",
   "name": "python3"
  },
  "language_info": {
   "name": "python",
   "version": "3.11.5"
  }
 },
 "nbformat": 4,
 "nbformat_minor": 5
}
