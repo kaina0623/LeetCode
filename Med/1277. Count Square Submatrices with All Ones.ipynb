{
 "cells": [
  {
   "cell_type": "markdown",
   "id": "3a059d94",
   "metadata": {},
   "source": [
    "# 1277. Count Square Submatrices with All Ones\n",
    "\n",
    "Given a `m * n` matrix of ones and zeros, return how many square submatrices have all ones.\n",
    "\n",
    "給定一個由 1 和 0 組成的 m * n 矩陣，傳回有多少個方陣子矩陣全為 1。\n",
    "\n",
    "Example 1:\n",
    "```\n",
    "Input: matrix =\n",
    "[\n",
    "  [0,1,1,1],\n",
    "  [1,1,1,1],\n",
    "  [0,1,1,1]\n",
    "]\n",
    "```\n",
    "Output: 15\n",
    "\n",
    "Explanation: \n",
    "- There are 10 squares of side 1.\n",
    "- There are 4 squares of side 2.\n",
    "- There is  1 square of side 3.\n",
    "- Total number of squares = 10 + 4 + 1 = 15.\n",
    "\n",
    "Example 2:\n",
    "```\n",
    "Input: matrix = \n",
    "[\n",
    "  [1,0,1],\n",
    "  [1,1,0],\n",
    "  [1,1,0]\n",
    "]\n",
    "```\n",
    "Output: 7\n",
    "\n",
    "- Explanation: \n",
    "- There are 6 squares of side 1.  \n",
    "- There is 1 square of side 2. \n",
    "- Total number of squares = 6 + 1 = 7.\n",
    " \n",
    "Constraints:\n",
    "* 1 <= arr.length <= 300\n",
    "* 1 <= arr[0].length <= 300\n",
    "* 0 <= arr[i][j] <= 1"
   ]
  },
  {
   "cell_type": "code",
   "execution_count": 15,
   "id": "750e74e1",
   "metadata": {},
   "outputs": [],
   "source": [
    "# useing dp\n",
    "\n",
    "\"\"\"\n",
    "Original: matrix =\n",
    "[\n",
    "  [0,1,1,1],\n",
    "  [1,1,1,1],\n",
    "  [0,1,1,1]\n",
    "]\n",
    "\n",
    "DP matrix =\n",
    "[\n",
    "  [0,1,1,1],\n",
    "  [1,1,2,2],\n",
    "  [0,1,2,3]\n",
    "]\n",
    "\n",
    "\"\"\"\n",
    "\n",
    "class Solution:\n",
    "    def countSquares(self, matrix: list[list[int]]) -> int:\n",
    "        ROWS, COLS = len(matrix), len(matrix[0])\n",
    "\n",
    "        ans = 0\n",
    "\n",
    "        for r in range(ROWS):\n",
    "            for c in range(COLS):\n",
    "                if matrix[r][c] == 1 and r > 0 and c > 0:\n",
    "                    matrix[r][c] = 1 + min(\n",
    "                        matrix[r - 1][c],\n",
    "                        matrix[r][c - 1],\n",
    "                        matrix[r - 1][c - 1]\n",
    "                    )\n",
    "                ans += matrix[r][c]\n",
    "        return ans\n",
    "    "
   ]
  },
  {
   "cell_type": "code",
   "execution_count": 16,
   "id": "103e8387",
   "metadata": {},
   "outputs": [
    {
     "name": "stdout",
     "output_type": "stream",
     "text": [
      "20\n"
     ]
    }
   ],
   "source": [
    "sol = Solution()\n",
    "\n",
    "requests = [\n",
    "        [1,1,1,1],[1,1,1,1],[1,1,1,1]\n",
    "    ]\n",
    "\n",
    "print(sol.countSquares(requests))"
   ]
  }
 ],
 "metadata": {
  "kernelspec": {
   "display_name": "base",
   "language": "python",
   "name": "python3"
  },
  "language_info": {
   "codemirror_mode": {
    "name": "ipython",
    "version": 3
   },
   "file_extension": ".py",
   "mimetype": "text/x-python",
   "name": "python",
   "nbconvert_exporter": "python",
   "pygments_lexer": "ipython3",
   "version": "3.11.5"
  }
 },
 "nbformat": 4,
 "nbformat_minor": 5
}
