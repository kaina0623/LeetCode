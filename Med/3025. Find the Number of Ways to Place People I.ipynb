{
 "cells": [
  {
   "cell_type": "markdown",
   "id": "11363676",
   "metadata": {},
   "source": [
    "# 3025. Find the Number of Ways to Place People I\n",
    "\n",
    "You are given a 2D array points of size n x 2 representing integer coordinates of some points on a 2D plane, where points[i] = [xi, yi].\n",
    "\n",
    "Count the number of pairs of points (A, B), where\n",
    "\n",
    "* A is on the upper left side of B, and\n",
    "* there are no other points in the rectangle (or line) they make (including the border).\n",
    "Return the count.\n",
    "\n",
    "給定一個大小為 n x 2 的二維數組 points，表示二維平面上一些點的整數座標，其中 points[i] = [xi, yi]。\n",
    "\n",
    "計算點對 (A, B) 的數量，其中\n",
    "\n",
    "* A 位於 B 的左上角，並且\n",
    "* 它們所構成的矩形（或直線）內（包括邊界）沒有其他點。\n",
    "返回計數。"
   ]
  },
  {
   "cell_type": "code",
   "execution_count": null,
   "id": "beedfe33",
   "metadata": {},
   "outputs": [],
   "source": [
    "class Solution:\n",
    "    def numberOfPairs(self, points: List[List[int]]) -> int:"
   ]
  }
 ],
 "metadata": {
  "kernelspec": {
   "display_name": "base",
   "language": "python",
   "name": "python3"
  },
  "language_info": {
   "name": "python",
   "version": "3.11.5"
  }
 },
 "nbformat": 4,
 "nbformat_minor": 5
}
