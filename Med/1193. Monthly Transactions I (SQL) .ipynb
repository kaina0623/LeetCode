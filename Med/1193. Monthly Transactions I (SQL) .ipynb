{
 "cells": [
  {
   "cell_type": "markdown",
   "id": "fd9de672",
   "metadata": {},
   "source": [
    "# 1193. Monthly Transactions I (SQL)"
   ]
  }
 ],
 "metadata": {
  "language_info": {
   "name": "python"
  }
 },
 "nbformat": 4,
 "nbformat_minor": 5
}
