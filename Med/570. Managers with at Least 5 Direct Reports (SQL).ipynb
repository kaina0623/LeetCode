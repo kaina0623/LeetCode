{
 "cells": [
  {
   "cell_type": "markdown",
   "id": "8415f981",
   "metadata": {},
   "source": [
    "# 570. Managers with at Least 5 Direct Reports (SQL)"
   ]
  },
  {
   "cell_type": "code",
   "execution_count": null,
   "id": "8afeb70a",
   "metadata": {
    "vscode": {
     "languageId": "plaintext"
    }
   },
   "outputs": [],
   "source": [
    "Table: Employee\n",
    "+-------------+---------+\n",
    "| Column Name | Type    |\n",
    "+-------------+---------+\n",
    "| id          | int     |\n",
    "| name        | varchar |\n",
    "| department  | varchar |\n",
    "| managerId   | int     |\n",
    "+-------------+---------+\n",
    "id is the primary key (column with unique values) for this table.\n",
    "Each row of this table indicates the name of an employee, their department, and the id of their manager.\n",
    "If managerId is null, then the employee does not have a manager.\n",
    "No employee will be the manager of themself.\n",
    "\n",
    "Write a solution to find managers with at least five direct reports.\n",
    "Return the result table in any order.\n",
    "The result format is in the following example.\n",
    "\n",
    "id 是此表的主鍵（具有唯一值的欄位）。\n",
    "此表的每一行都包含員工的姓名、部門以及經理的 id。\n",
    "如果 managerId 為 null，則表示該員工沒有經理。\n",
    "任何員工都不會成為自己的經理。\n",
    "\n",
    "寫一個解決方案，找出至少有五名直接下屬的經理。\n",
    "以任意順序傳回結果表。\n",
    "結果格式如下例所示。\n",
    "\n",
    " \n",
    "\n",
    "Example 1:\n",
    "\n",
    "Input: \n",
    "Employee table:\n",
    "+-----+-------+------------+-----------+\n",
    "| id  | name  | department | managerId |\n",
    "+-----+-------+------------+-----------+\n",
    "| 101 | John  | A          | null      |\n",
    "| 102 | Dan   | A          | 101       |\n",
    "| 103 | James | A          | 101       |\n",
    "| 104 | Amy   | A          | 101       |\n",
    "| 105 | Anne  | A          | 101       |\n",
    "| 106 | Ron   | B          | 101       |\n",
    "+-----+-------+------------+-----------+\n",
    "\n",
    "Output: \n",
    "+------+\n",
    "| name |\n",
    "+------+\n",
    "| John |\n",
    "+------+"
   ]
  },
  {
   "cell_type": "code",
   "execution_count": null,
   "id": "e1034fb2",
   "metadata": {
    "vscode": {
     "languageId": "plaintext"
    }
   },
   "outputs": [],
   "source": [
    "where 和 having的差別：\n",
    "網路上一篇文章說的很好，本文直接拿來主義。\n",
    "「Where」是一個約束聲明，在查詢資料庫的結果返回之前對資料庫中的查詢條件進行約束，即在結果返回之前起作用，且where後面不能使用「聚合函數」；\n",
    "「Having」是一個過濾聲明，所謂過濾是在查詢資料庫的結果返回之後進行過濾，即在結果返回之後起作用，並且having後面可以使用「聚合函數」。\n",
    "因為聚合函數是比較where和having的關鍵，所以先說下聚合函數。"
   ]
  },
  {
   "cell_type": "code",
   "execution_count": null,
   "id": "15278d07",
   "metadata": {
    "vscode": {
     "languageId": "sql"
    }
   },
   "outputs": [],
   "source": [
    "SELECT E1.name\n",
    "FROM Employee E1 \n",
    "JOIN Employee E2 \n",
    "ON E1.id = E2.managerId\n",
    "GROUP BY E1.id, E1.name\n",
    "having count(E1.id) >= 5"
   ]
  },
  {
   "cell_type": "code",
   "execution_count": null,
   "id": "47e9ae2b",
   "metadata": {
    "vscode": {
     "languageId": "sql"
    }
   },
   "outputs": [],
   "source": [
    "SELECT E.name\n",
    "FROM Employee E\n",
    "JOIN(\n",
    "    SELECT managerId\n",
    "    FROM Employee\n",
    "    GROUP BY managerId\n",
    "    having count(Id) >= 5\n",
    ") AS A\n",
    "ON (E.Id = A.managerId)"
   ]
  }
 ],
 "metadata": {
  "language_info": {
   "name": "python"
  }
 },
 "nbformat": 4,
 "nbformat_minor": 5
}
