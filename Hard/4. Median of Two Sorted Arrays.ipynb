{
 "cells": [
  {
   "cell_type": "markdown",
   "id": "6d714b93",
   "metadata": {},
   "source": [
    "# 4. Median of Two Sorted Arrays\n",
    "\n",
    "給定兩個大小分別為 m 和 n 的已排序數組 nums1 和 nums2，傳回這兩個已排序數組的中位數。\n",
    "\n",
    "整體運行時間複雜度應為 O(log (m+n))。\n",
    "\n",
    "---\n",
    "\n",
    "Given two sorted arrays nums1 and nums2 of size m and n respectively, return the median of the two sorted arrays.\n",
    "\n",
    "The overall run time complexity should be O(log (m+n)).\n",
    "\n",
    "Example 1:\n",
    "- Input: nums1 = [1,3], nums2 = [2]\n",
    "- Output: 2.00000\n",
    "- Explanation: merged array = [1,2,3] and median is 2.\n",
    "\n",
    "Example 2:\n",
    "- Input: nums1 = [1,2], nums2 = [3,4]\n",
    "- Output: 2.50000\n",
    "- Explanation: merged array = [1,2,3,4] and median is (2 + 3) / 2 = 2.5."
   ]
  },
  {
   "cell_type": "markdown",
   "id": "5ab5928b",
   "metadata": {},
   "source": [
    "### Two Pointer + 二元搜尋法\n",
    "思路：\n",
    "\n",
    "既然題目要求時間複雜度在O((m+n)\\log (m+n))，\n",
    "\n",
    "代表我們不可能將兩個陣列完全進行遍歷（至少需要線性時間），更不用說是對陣列進行合併。\n",
    "\n",
    "這邊要求要在對數時間內進行計算，唯一的解法就是使用二元搜尋（binary search）。\n",
    "\n",
    "這題的難點主要是在如何在不合併陣列的情況下進行二元搜尋，我們的思路是利用兩個指針分別將兩個陣列分成割兩段，\n",
    "\n",
    "利用二元搜尋法尋找適合的分割點，使指針左側代表小於中位數的部分，而指針右側代表小於中位數的部分。\n",
    "\n",
    "參考影片：[力扣](https://www.youtube.com/watch?v=wDBnBA82z1c)"
   ]
  },
  {
   "cell_type": "code",
   "execution_count": 5,
   "id": "9b1b135b",
   "metadata": {},
   "outputs": [],
   "source": [
    "class Solution:\n",
    "    def findMedianSortedArrays(self, nums1: list[int], nums2: list[int]) -> float:\n",
    "    # 確定 nums1 比 nums2 短，簡化後續操作\n",
    "        if len(nums1) > len(nums2):\n",
    "            nums1, nums2 = nums2, nums1\n",
    "        m, n = len(nums1), len(nums2)\n",
    "\n",
    "        # binary search\n",
    "        left_size = (m + n + 1) // 2  # 固定左側長度，確保 median 在左側\n",
    "        left, right = 0, m\n",
    "\n",
    "        # 當 left == right 時代表找到分割點，結束搜尋\n",
    "        while left < right:  \n",
    "            ptr1 = left + (right - left + 1) // 2\n",
    "            ptr2 = left_size - ptr1\n",
    "            if nums1[ptr1 - 1] > nums2[ptr2]:\n",
    "                right = ptr1 - 1\n",
    "            else:\n",
    "                left = ptr1\n",
    "\n",
    "        # 根據　binary search　的結果設置最終分割點\n",
    "        ptr1, ptr2 = left, left_size - left\n",
    "\n",
    "        # edge cases, 處理指針剛好位於陣列邊界的情況\n",
    "        nums1_left_max = float('-inf') if ptr1 == 0 else nums1[ptr1 - 1]\n",
    "        nums1_right_min = float('inf') if ptr1 == m else nums1[ptr1]\n",
    "        nums2_left_max = float('-inf') if ptr2 == 0 else nums2[ptr2 - 1]\n",
    "        nums2_right_min = float('inf') if ptr2 == n else nums2[ptr2]\n",
    "\n",
    "        # 根據奇偶性計算　median\n",
    "        if (m + n) % 2 == 1:\n",
    "            return max(nums1_left_max, nums2_left_max)\n",
    "        return (max(nums1_left_max, nums2_left_max) + min(nums1_right_min, nums2_right_min)) / 2"
   ]
  },
  {
   "cell_type": "code",
   "execution_count": 6,
   "id": "e2fa0181",
   "metadata": {},
   "outputs": [
    {
     "name": "stdout",
     "output_type": "stream",
     "text": [
      "2.5\n"
     ]
    }
   ],
   "source": [
    "sol = Solution()\n",
    "\n",
    "print(sol.findMedianSortedArrays(nums1=[1,2], nums2=[3,4]))"
   ]
  }
 ],
 "metadata": {
  "kernelspec": {
   "display_name": "base",
   "language": "python",
   "name": "python3"
  },
  "language_info": {
   "codemirror_mode": {
    "name": "ipython",
    "version": 3
   },
   "file_extension": ".py",
   "mimetype": "text/x-python",
   "name": "python",
   "nbconvert_exporter": "python",
   "pygments_lexer": "ipython3",
   "version": "3.11.5"
  }
 },
 "nbformat": 4,
 "nbformat_minor": 5
}
