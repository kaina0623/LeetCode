{
 "cells": [
  {
   "cell_type": "markdown",
   "id": "7873d76a",
   "metadata": {},
   "source": [
    "You are given an integer n. \n",
    "\n",
    "We reorder the digits in any order (including the original order) such that the leading digit is not zero.\n",
    "\n",
    "Return true if and only if we can do this so that the resulting number is a power of two.\n",
    "\n",
    "\n",
    "Example 1:\n",
    "- Input: n = 1\n",
    "- Output: true\n",
    "\n",
    "Example 2:\n",
    "- Input: n = 10\n",
    "- Output: false"
   ]
  },
  {
   "cell_type": "code",
   "execution_count": 1,
   "id": "676e2c16",
   "metadata": {},
   "outputs": [],
   "source": [
    "class Solution:\n",
    "    def reorderedPowerOf2(self, n: int) -> bool:\n",
    "        # 將 input n 轉換為字串並且排序\n",
    "        s = sorted(str(n))\n",
    "\n",
    "        # 跌代 2 的次方\n",
    "        for i in range(30):\n",
    "            power_of_2 = 1 << i     # 快速做 2**i\n",
    "\n",
    "            # 建立 2 的次方表\n",
    "            p_s = sorted(str(power_of_2))\n",
    "\n",
    "            # 查看是否相符\n",
    "            if s == p_s:\n",
    "                return True\n",
    "\n",
    "        # 迴圈結束沒找到回傳 False\n",
    "        return False"
   ]
  },
  {
   "cell_type": "code",
   "execution_count": 11,
   "id": "40475189",
   "metadata": {},
   "outputs": [
    {
     "name": "stdout",
     "output_type": "stream",
     "text": [
      "True\n"
     ]
    }
   ],
   "source": [
    "sol = Solution()\n",
    "\n",
    "print(sol.reorderedPowerOf2(821))"
   ]
  }
 ],
 "metadata": {
  "kernelspec": {
   "display_name": "base",
   "language": "python",
   "name": "python3"
  },
  "language_info": {
   "codemirror_mode": {
    "name": "ipython",
    "version": 3
   },
   "file_extension": ".py",
   "mimetype": "text/x-python",
   "name": "python",
   "nbconvert_exporter": "python",
   "pygments_lexer": "ipython3",
   "version": "3.11.5"
  }
 },
 "nbformat": 4,
 "nbformat_minor": 5
}
